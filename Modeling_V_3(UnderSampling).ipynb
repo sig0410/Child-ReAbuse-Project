{
 "cells": [
  {
   "cell_type": "code",
   "execution_count": 2,
   "metadata": {
    "scrolled": true
   },
   "outputs": [
    {
     "name": "stderr",
     "output_type": "stream",
     "text": [
      "/Users/Moon/opt/anaconda3/lib/python3.7/site-packages/sklearn/utils/deprecation.py:143: FutureWarning: The sklearn.feature_selection.univariate_selection module is  deprecated in version 0.22 and will be removed in version 0.24. The corresponding classes / functions should instead be imported from sklearn.feature_selection. Anything that cannot be imported from sklearn.feature_selection is now part of the private API.\n",
      "  warnings.warn(message, FutureWarning)\n",
      "Using TensorFlow backend.\n"
     ]
    }
   ],
   "source": [
    "import re\n",
    "import nltk\n",
    "\n",
    "import pandas as pd\n",
    "import numpy as np\n",
    "\n",
    "from bs4 import BeautifulSoup\n",
    "from nltk.corpus import stopwords\n",
    "from nltk.stem.porter import PorterStemmer\n",
    "english_stemmer=nltk.stem.SnowballStemmer('english')\n",
    "\n",
    "from sklearn.feature_selection.univariate_selection import SelectKBest, chi2, f_classif\n",
    "from sklearn.model_selection import train_test_split\n",
    "from sklearn.feature_extraction.text import TfidfVectorizer\n",
    "from sklearn.linear_model import SGDClassifier, SGDRegressor\n",
    "from sklearn.ensemble import RandomForestClassifier, GradientBoostingClassifier\n",
    "from sklearn.naive_bayes import MultinomialNB\n",
    "from sklearn.metrics import accuracy_score, classification_report, confusion_matrix\n",
    "import random\n",
    "import itertools\n",
    "\n",
    "import sys\n",
    "import os\n",
    "import argparse\n",
    "from sklearn.pipeline import Pipeline\n",
    "from scipy.sparse import csr_matrix\n",
    "from sklearn.feature_extraction.text import CountVectorizer\n",
    "import six\n",
    "import tensorflow\n",
    "from abc import ABCMeta\n",
    "from scipy import sparse\n",
    "from scipy.sparse import issparse\n",
    "from sklearn.base import BaseEstimator, ClassifierMixin\n",
    "from sklearn.utils import check_X_y, check_array\n",
    "from sklearn.utils.extmath import safe_sparse_dot\n",
    "from sklearn.preprocessing import normalize, binarize, LabelBinarizer\n",
    "from sklearn.svm import LinearSVC\n",
    "\n",
    "from keras.preprocessing import sequence\n",
    "from keras.utils import np_utils\n",
    "from keras.models import Sequential\n",
    "from keras.layers.core import Dense, Dropout, Activation, Lambda\n",
    "from keras.layers.embeddings import Embedding\n",
    "from keras.layers.recurrent import LSTM, SimpleRNN, GRU\n",
    "from keras.preprocessing.text import Tokenizer\n",
    "from collections import defaultdict\n",
    "from keras.layers.convolutional import Convolution1D\n",
    "from keras import backend as K\n",
    "\n",
    "import seaborn as sns\n",
    "import matplotlib.pyplot as plt\n",
    "from matplotlib import cm\n",
    "%matplotlib inline\n",
    "plt.style.use('ggplot')\n",
    "import sklearn.metrics as metrics"
   ]
  },
  {
   "cell_type": "code",
   "execution_count": 3,
   "metadata": {},
   "outputs": [],
   "source": [
    "from sklearn.datasets import load_boston\n",
    "import xgboost\n",
    "import matplotlib.pyplot as plt\n",
    "from sklearn.metrics import explained_variance_score\n",
    "from xgboost import plot_importance\n",
    "from xgboost import XGBClassifier\n",
    "from imblearn.over_sampling import SMOTE\n",
    "\n",
    "\n",
    "from matplotlib import rc\n",
    "rc('font', family='AppleGothic')\n",
    "plt.rcParams['axes.unicode_minus'] = False"
   ]
  },
  {
   "cell_type": "code",
   "execution_count": 4,
   "metadata": {},
   "outputs": [
    {
     "name": "stderr",
     "output_type": "stream",
     "text": [
      "/Users/Moon/opt/anaconda3/lib/python3.7/site-packages/IPython/core/interactiveshell.py:3058: DtypeWarning: Columns (23,24,28,29,31,32,33,34,35,39,42,48,52,53,60) have mixed types. Specify dtype option on import or set low_memory=False.\n",
      "  interactivity=interactivity, compiler=compiler, result=result)\n"
     ]
    },
    {
     "data": {
      "text/html": [
       "<div>\n",
       "<style scoped>\n",
       "    .dataframe tbody tr th:only-of-type {\n",
       "        vertical-align: middle;\n",
       "    }\n",
       "\n",
       "    .dataframe tbody tr th {\n",
       "        vertical-align: top;\n",
       "    }\n",
       "\n",
       "    .dataframe thead th {\n",
       "        text-align: right;\n",
       "    }\n",
       "</style>\n",
       "<table border=\"1\" class=\"dataframe\">\n",
       "  <thead>\n",
       "    <tr style=\"text-align: right;\">\n",
       "      <th></th>\n",
       "      <th>개별사건번호</th>\n",
       "      <th>피해아동 대상자ID</th>\n",
       "      <th>학대행위자 대상자ID</th>\n",
       "      <th>아동정보.성별</th>\n",
       "      <th>아동정보.내국인여부</th>\n",
       "      <th>아동정보.교육기관</th>\n",
       "      <th>아동정보.최종 학력</th>\n",
       "      <th>아동정보.직업 유형</th>\n",
       "      <th>아동정보.거주상태</th>\n",
       "      <th>아동정보.친권자 유형</th>\n",
       "      <th>...</th>\n",
       "      <th>학대조사(대상자관계).재신고 이전 사건</th>\n",
       "      <th>학대조사(대상자관계).동일신고 여부.1</th>\n",
       "      <th>학대조사(대상자관계).동일신고 이전 사건</th>\n",
       "      <th>학대조사(대상자관계).보호자 학대 여부</th>\n",
       "      <th>학대조사(대상자관계).아동 관계 구분코드</th>\n",
       "      <th>학대조사(대상자관계).아동 동거 여부.1</th>\n",
       "      <th>학대조사(대상자관계).특별관리유형</th>\n",
       "      <th>판단결과.학대 혐의 여부</th>\n",
       "      <th>판단결과.학대 유형</th>\n",
       "      <th>생년월일</th>\n",
       "    </tr>\n",
       "  </thead>\n",
       "  <tbody>\n",
       "    <tr>\n",
       "      <td>0</td>\n",
       "      <td>5722572220181200160001</td>\n",
       "      <td>CASRCP20190100282</td>\n",
       "      <td>CASRCP20190100283</td>\n",
       "      <td>M</td>\n",
       "      <td>내국인</td>\n",
       "      <td>NaN</td>\n",
       "      <td>재학중</td>\n",
       "      <td>중학교</td>\n",
       "      <td>자택</td>\n",
       "      <td>친부모</td>\n",
       "      <td>...</td>\n",
       "      <td>NaN</td>\n",
       "      <td>N</td>\n",
       "      <td>NaN</td>\n",
       "      <td>NaN</td>\n",
       "      <td>NaN</td>\n",
       "      <td>Y</td>\n",
       "      <td>NaN</td>\n",
       "      <td>Y</td>\n",
       "      <td>양육관련상담</td>\n",
       "      <td>14.0</td>\n",
       "    </tr>\n",
       "    <tr>\n",
       "      <td>1</td>\n",
       "      <td>6603660320181200090001</td>\n",
       "      <td>CASRCP20190101182</td>\n",
       "      <td>CASRCP20190101183</td>\n",
       "      <td>F</td>\n",
       "      <td>NaN</td>\n",
       "      <td>NaN</td>\n",
       "      <td>NaN</td>\n",
       "      <td>NaN</td>\n",
       "      <td>NaN</td>\n",
       "      <td>NaN</td>\n",
       "      <td>...</td>\n",
       "      <td>NaN</td>\n",
       "      <td>N</td>\n",
       "      <td>NaN</td>\n",
       "      <td>NaN</td>\n",
       "      <td>NaN</td>\n",
       "      <td>N</td>\n",
       "      <td>NaN</td>\n",
       "      <td>N</td>\n",
       "      <td>NaN</td>\n",
       "      <td>15.0</td>\n",
       "    </tr>\n",
       "    <tr>\n",
       "      <td>2</td>\n",
       "      <td>6002600220181200040001</td>\n",
       "      <td>CASRCP20190100497</td>\n",
       "      <td>CASRCP20190100498</td>\n",
       "      <td>F</td>\n",
       "      <td>내국인</td>\n",
       "      <td>NaN</td>\n",
       "      <td>재학중</td>\n",
       "      <td>중학교</td>\n",
       "      <td>NaN</td>\n",
       "      <td>친부모</td>\n",
       "      <td>...</td>\n",
       "      <td>NaN</td>\n",
       "      <td>N</td>\n",
       "      <td>NaN</td>\n",
       "      <td>NaN</td>\n",
       "      <td>NaN</td>\n",
       "      <td>Y</td>\n",
       "      <td>NaN</td>\n",
       "      <td>N</td>\n",
       "      <td>NaN</td>\n",
       "      <td>15.0</td>\n",
       "    </tr>\n",
       "    <tr>\n",
       "      <td>3</td>\n",
       "      <td>5202520220181200080001</td>\n",
       "      <td>CASRCP20190301533</td>\n",
       "      <td>CASRCP20190301534</td>\n",
       "      <td>M</td>\n",
       "      <td>내국인</td>\n",
       "      <td>NaN</td>\n",
       "      <td>재학중</td>\n",
       "      <td>고등학교</td>\n",
       "      <td>NaN</td>\n",
       "      <td>친부모</td>\n",
       "      <td>...</td>\n",
       "      <td>NaN</td>\n",
       "      <td>N</td>\n",
       "      <td>NaN</td>\n",
       "      <td>NaN</td>\n",
       "      <td>NaN</td>\n",
       "      <td>Y</td>\n",
       "      <td>NaN</td>\n",
       "      <td>Y</td>\n",
       "      <td>이혼 및 양육권 소송상담</td>\n",
       "      <td>16.0</td>\n",
       "    </tr>\n",
       "    <tr>\n",
       "      <td>4</td>\n",
       "      <td>5601560120181200130001</td>\n",
       "      <td>CASRCP20190100151</td>\n",
       "      <td>CASRCP20190100153</td>\n",
       "      <td>M</td>\n",
       "      <td>내국인</td>\n",
       "      <td>NaN</td>\n",
       "      <td>재학중</td>\n",
       "      <td>초등학교</td>\n",
       "      <td>월세</td>\n",
       "      <td>친부모</td>\n",
       "      <td>...</td>\n",
       "      <td>NaN</td>\n",
       "      <td>N</td>\n",
       "      <td>NaN</td>\n",
       "      <td>NaN</td>\n",
       "      <td>NaN</td>\n",
       "      <td>N</td>\n",
       "      <td>NaN</td>\n",
       "      <td>Y</td>\n",
       "      <td>NaN</td>\n",
       "      <td>13.0</td>\n",
       "    </tr>\n",
       "    <tr>\n",
       "      <td>...</td>\n",
       "      <td>...</td>\n",
       "      <td>...</td>\n",
       "      <td>...</td>\n",
       "      <td>...</td>\n",
       "      <td>...</td>\n",
       "      <td>...</td>\n",
       "      <td>...</td>\n",
       "      <td>...</td>\n",
       "      <td>...</td>\n",
       "      <td>...</td>\n",
       "      <td>...</td>\n",
       "      <td>...</td>\n",
       "      <td>...</td>\n",
       "      <td>...</td>\n",
       "      <td>...</td>\n",
       "      <td>...</td>\n",
       "      <td>...</td>\n",
       "      <td>...</td>\n",
       "      <td>...</td>\n",
       "      <td>...</td>\n",
       "      <td>...</td>\n",
       "    </tr>\n",
       "    <tr>\n",
       "      <td>105959</td>\n",
       "      <td>0809080920140100010001</td>\n",
       "      <td>CASRCP20131010283</td>\n",
       "      <td>CASRCP20140120156</td>\n",
       "      <td>M</td>\n",
       "      <td>내국인</td>\n",
       "      <td>NaN</td>\n",
       "      <td>NaN</td>\n",
       "      <td>NaN</td>\n",
       "      <td>NaN</td>\n",
       "      <td>NaN</td>\n",
       "      <td>...</td>\n",
       "      <td>8.012013e+12</td>\n",
       "      <td>NaN</td>\n",
       "      <td>NaN</td>\n",
       "      <td>NaN</td>\n",
       "      <td>NaN</td>\n",
       "      <td>Y</td>\n",
       "      <td>NaN</td>\n",
       "      <td>Y</td>\n",
       "      <td>NaN</td>\n",
       "      <td>19.0</td>\n",
       "    </tr>\n",
       "    <tr>\n",
       "      <td>105960</td>\n",
       "      <td>0403040320140100030001</td>\n",
       "      <td>CASRCP20140110041</td>\n",
       "      <td>CASRCP20140120038</td>\n",
       "      <td>M</td>\n",
       "      <td>내국인</td>\n",
       "      <td>NaN</td>\n",
       "      <td>NaN</td>\n",
       "      <td>NaN</td>\n",
       "      <td>전세</td>\n",
       "      <td>친모</td>\n",
       "      <td>...</td>\n",
       "      <td>4.032013e+12</td>\n",
       "      <td>NaN</td>\n",
       "      <td>NaN</td>\n",
       "      <td>NaN</td>\n",
       "      <td>NaN</td>\n",
       "      <td>Y</td>\n",
       "      <td>NaN</td>\n",
       "      <td>N</td>\n",
       "      <td>NaN</td>\n",
       "      <td>17.0</td>\n",
       "    </tr>\n",
       "    <tr>\n",
       "      <td>105961</td>\n",
       "      <td>1001100120140100020001</td>\n",
       "      <td>CASRCP20140110878</td>\n",
       "      <td>CASRCP20140121028</td>\n",
       "      <td>F</td>\n",
       "      <td>내국인</td>\n",
       "      <td>NaN</td>\n",
       "      <td>NaN</td>\n",
       "      <td>NaN</td>\n",
       "      <td>자택</td>\n",
       "      <td>친모</td>\n",
       "      <td>...</td>\n",
       "      <td>NaN</td>\n",
       "      <td>NaN</td>\n",
       "      <td>NaN</td>\n",
       "      <td>NaN</td>\n",
       "      <td>NaN</td>\n",
       "      <td>Y</td>\n",
       "      <td>NaN</td>\n",
       "      <td>N</td>\n",
       "      <td>NaN</td>\n",
       "      <td>20.0</td>\n",
       "    </tr>\n",
       "    <tr>\n",
       "      <td>105962</td>\n",
       "      <td>1502150220140100020001</td>\n",
       "      <td>CASRCP20110610831</td>\n",
       "      <td>CASRCP20110620594</td>\n",
       "      <td>M</td>\n",
       "      <td>내국인</td>\n",
       "      <td>NaN</td>\n",
       "      <td>NaN</td>\n",
       "      <td>NaN</td>\n",
       "      <td>전세</td>\n",
       "      <td>친부</td>\n",
       "      <td>...</td>\n",
       "      <td>1.502201e+13</td>\n",
       "      <td>NaN</td>\n",
       "      <td>NaN</td>\n",
       "      <td>NaN</td>\n",
       "      <td>NaN</td>\n",
       "      <td>N</td>\n",
       "      <td>NaN</td>\n",
       "      <td>Y</td>\n",
       "      <td>NaN</td>\n",
       "      <td>17.0</td>\n",
       "    </tr>\n",
       "    <tr>\n",
       "      <td>105963</td>\n",
       "      <td>1502150220140100010001</td>\n",
       "      <td>CASRCP20110610830</td>\n",
       "      <td>CASRCP20110620594</td>\n",
       "      <td>F</td>\n",
       "      <td>내국인</td>\n",
       "      <td>NaN</td>\n",
       "      <td>NaN</td>\n",
       "      <td>NaN</td>\n",
       "      <td>NaN</td>\n",
       "      <td>NaN</td>\n",
       "      <td>...</td>\n",
       "      <td>1.502201e+13</td>\n",
       "      <td>NaN</td>\n",
       "      <td>NaN</td>\n",
       "      <td>NaN</td>\n",
       "      <td>NaN</td>\n",
       "      <td>N</td>\n",
       "      <td>NaN</td>\n",
       "      <td>Y</td>\n",
       "      <td>NaN</td>\n",
       "      <td>20.0</td>\n",
       "    </tr>\n",
       "  </tbody>\n",
       "</table>\n",
       "<p>105964 rows × 77 columns</p>\n",
       "</div>"
      ],
      "text/plain": [
       "                        개별사건번호         피해아동 대상자ID        학대행위자 대상자ID 아동정보.성별  \\\n",
       "0       5722572220181200160001  CASRCP20190100282  CASRCP20190100283       M   \n",
       "1       6603660320181200090001  CASRCP20190101182  CASRCP20190101183       F   \n",
       "2       6002600220181200040001  CASRCP20190100497  CASRCP20190100498       F   \n",
       "3       5202520220181200080001  CASRCP20190301533  CASRCP20190301534       M   \n",
       "4       5601560120181200130001  CASRCP20190100151  CASRCP20190100153       M   \n",
       "...                        ...                ...                ...     ...   \n",
       "105959  0809080920140100010001  CASRCP20131010283  CASRCP20140120156       M   \n",
       "105960  0403040320140100030001  CASRCP20140110041  CASRCP20140120038       M   \n",
       "105961  1001100120140100020001  CASRCP20140110878  CASRCP20140121028       F   \n",
       "105962  1502150220140100020001  CASRCP20110610831  CASRCP20110620594       M   \n",
       "105963  1502150220140100010001  CASRCP20110610830  CASRCP20110620594       F   \n",
       "\n",
       "       아동정보.내국인여부  아동정보.교육기관 아동정보.최종 학력 아동정보.직업 유형 아동정보.거주상태 아동정보.친권자 유형  ...  \\\n",
       "0             내국인        NaN        재학중        중학교        자택         친부모  ...   \n",
       "1             NaN        NaN        NaN        NaN       NaN         NaN  ...   \n",
       "2             내국인        NaN        재학중        중학교       NaN         친부모  ...   \n",
       "3             내국인        NaN        재학중       고등학교       NaN         친부모  ...   \n",
       "4             내국인        NaN        재학중       초등학교        월세         친부모  ...   \n",
       "...           ...        ...        ...        ...       ...         ...  ...   \n",
       "105959        내국인        NaN        NaN        NaN       NaN         NaN  ...   \n",
       "105960        내국인        NaN        NaN        NaN        전세          친모  ...   \n",
       "105961        내국인        NaN        NaN        NaN        자택          친모  ...   \n",
       "105962        내국인        NaN        NaN        NaN        전세          친부  ...   \n",
       "105963        내국인        NaN        NaN        NaN       NaN         NaN  ...   \n",
       "\n",
       "       학대조사(대상자관계).재신고 이전 사건 학대조사(대상자관계).동일신고 여부.1 학대조사(대상자관계).동일신고 이전 사건  \\\n",
       "0                        NaN                     N                    NaN   \n",
       "1                        NaN                     N                    NaN   \n",
       "2                        NaN                     N                    NaN   \n",
       "3                        NaN                     N                    NaN   \n",
       "4                        NaN                     N                    NaN   \n",
       "...                      ...                   ...                    ...   \n",
       "105959          8.012013e+12                   NaN                    NaN   \n",
       "105960          4.032013e+12                   NaN                    NaN   \n",
       "105961                   NaN                   NaN                    NaN   \n",
       "105962          1.502201e+13                   NaN                    NaN   \n",
       "105963          1.502201e+13                   NaN                    NaN   \n",
       "\n",
       "       학대조사(대상자관계).보호자 학대 여부 학대조사(대상자관계).아동 관계 구분코드 학대조사(대상자관계).아동 동거 여부.1  \\\n",
       "0                        NaN                    NaN                      Y   \n",
       "1                        NaN                    NaN                      N   \n",
       "2                        NaN                    NaN                      Y   \n",
       "3                        NaN                    NaN                      Y   \n",
       "4                        NaN                    NaN                      N   \n",
       "...                      ...                    ...                    ...   \n",
       "105959                   NaN                    NaN                      Y   \n",
       "105960                   NaN                    NaN                      Y   \n",
       "105961                   NaN                    NaN                      Y   \n",
       "105962                   NaN                    NaN                      N   \n",
       "105963                   NaN                    NaN                      N   \n",
       "\n",
       "       학대조사(대상자관계).특별관리유형 판단결과.학대 혐의 여부     판단결과.학대 유형  생년월일  \n",
       "0                     NaN             Y        양육관련상담   14.0  \n",
       "1                     NaN             N            NaN  15.0  \n",
       "2                     NaN             N            NaN  15.0  \n",
       "3                     NaN             Y  이혼 및 양육권 소송상담  16.0  \n",
       "4                     NaN             Y            NaN  13.0  \n",
       "...                   ...           ...            ...   ...  \n",
       "105959                NaN             Y            NaN  19.0  \n",
       "105960                NaN             N            NaN  17.0  \n",
       "105961                NaN             N            NaN  20.0  \n",
       "105962                NaN             Y            NaN  17.0  \n",
       "105963                NaN             Y            NaN  20.0  \n",
       "\n",
       "[105964 rows x 77 columns]"
      ]
     },
     "execution_count": 4,
     "metadata": {},
     "output_type": "execute_result"
    }
   ],
   "source": [
    "df = pd.read_csv('./Child_v1.csv',encoding = 'cp949')\n",
    "df"
   ]
  },
  {
   "cell_type": "code",
   "execution_count": 4,
   "metadata": {},
   "outputs": [],
   "source": [
    "df['아동정보.생년월일'] = df['아동정보.생년월일'].astype(str)\n",
    "b = []\n",
    "for i in df['아동정보.생년월일']:\n",
    "    a = i[:4]\n",
    "    c = float(a)\n",
    "    b.append(2019 - c)\n",
    "    "
   ]
  },
  {
   "cell_type": "code",
   "execution_count": 5,
   "metadata": {},
   "outputs": [],
   "source": [
    "b = pd.Series(b)\n",
    "df = pd.concat([df,b],axis = 1)\n",
    "df = df.drop(['아동정보.생년월일'], axis = 1)\n",
    "df.rename(columns = {0 : '생년월일'}, inplace = True)"
   ]
  },
  {
   "cell_type": "code",
   "execution_count": 6,
   "metadata": {
    "scrolled": false
   },
   "outputs": [
    {
     "data": {
      "text/plain": [
       "array([ 1.400e+01,  1.500e+01,  1.600e+01,  1.300e+01,  1.800e+01,\n",
       "        8.000e+00,  1.200e+01,  1.000e+00,        nan,  7.000e+00,\n",
       "        2.000e+00,  1.000e+01,  4.000e+00,  9.000e+00,  6.000e+00,\n",
       "        5.000e+00,  1.700e+01,  3.000e+00,  1.100e+01,  1.900e+01,\n",
       "       -1.000e+00,  2.900e+01,  2.000e+01,  3.600e+01,  2.100e+01,\n",
       "        2.200e+01,  3.700e+01,  1.799e+03,  1.189e+03,  6.100e+01,\n",
       "        1.070e+02,  2.500e+01,  2.300e+01,  2.400e+01,  1.050e+02,\n",
       "        5.400e+01,  2.700e+01,  4.800e+01,  2.600e+01,  1.110e+02,\n",
       "        2.800e+01,  1.080e+02,  1.140e+02,  3.000e+01])"
      ]
     },
     "execution_count": 6,
     "metadata": {},
     "output_type": "execute_result"
    }
   ],
   "source": [
    "df['생년월일'].unique()"
   ]
  },
  {
   "cell_type": "code",
   "execution_count": 7,
   "metadata": {},
   "outputs": [],
   "source": [
    "df = df[(df['생년월일'] >= 0.0) & (df['생년월일'] <= 21.0)]"
   ]
  },
  {
   "cell_type": "code",
   "execution_count": 9,
   "metadata": {},
   "outputs": [],
   "source": [
    "df.to_csv('/Users/Moon/Desktop/Project/Chidl_v1.csv', encoding = 'cp949', index = False, header = True)"
   ]
  },
  {
   "cell_type": "code",
   "execution_count": 5,
   "metadata": {},
   "outputs": [],
   "source": [
    "df = df.drop(['아동정보.교육기관',\n",
    "                    '신고접수.신고자유형기타내용',\n",
    "                    '신고접수.접수 부가확인사항',\n",
    "                    '신고접수.재신고 유형 기타', \n",
    "                    '신고접수.일반상담 유형',\n",
    "                    '신고접수.동일신고 여부',\n",
    "                    '신고접수.동일신고 관리 기관',\n",
    "                    '신고접수.동일신고이전접수',\n",
    "                    '신고접수.오인신고 유형',\n",
    "                    '신고접수.오인신고 사유',\n",
    "                    '신고접수.특별 관리 유형',\n",
    "                    '신고접수.특별 관리 유형',\n",
    "                    '신고접수.오인신고확인기관',\n",
    "                    '신고접수.행위자수탁명령',\n",
    "                    '신고접수.행위자수탁명령결정',\n",
    "                    '신고접수(대상자관계).동일신고관리',\n",
    "                    '신고접수(대상자관계).통계 기관',\n",
    "                    '신고접수(대상자관계).재신고유형기타',\n",
    "                    '신고접수(대상자관계).이전신고여부',\n",
    "                    '신고접수(대상자관계).동일신고이전',\n",
    "                    '학대조사(대상자관계).동일신고 이전 사건',\n",
    "                    '학대조사(대상자관계).보호자 학대 여부',\n",
    "                    '신고접수(대상자관계).통계 기관',\n",
    "                    '학대조사.현장조사서 순번',\n",
    "                    '학대조사(대상자관계).아동 관계 구분코드'], axis = 1)"
   ]
  },
  {
   "cell_type": "code",
   "execution_count": 6,
   "metadata": {
    "scrolled": true
   },
   "outputs": [
    {
     "data": {
      "text/plain": [
       "Index(['개별사건번호', '피해아동 대상자ID', '학대행위자 대상자ID', '아동정보.성별', '아동정보.생년월일',\n",
       "       '아동정보.내국인여부', '아동정보.최종 학력', '아동정보.직업 유형', '아동정보.거주상태', '아동정보.친권자 유형',\n",
       "       '아동정보.가족 유형', '아동정보.다문화가족', '아동정보.가구 소득 구분코드', '아동정보.기초생활수급 유형',\n",
       "       '신고접수.접수 경로 구분코드', '신고접수.접수 일시', '신고접수.신고자 유형 구분코드', '신고접수.통보 경찰 소속 기관',\n",
       "       '신고접수.통보 일시', '신고접수.집단 시설내사건 구분', '신고접수.재신고 여부(17년)', '신고접수.재신고 유형',\n",
       "       '신고접수.재신고이전접수번호', '신고접수.접수 유형', '신고접수.관할지구대', '신고접수.신고접수 구분',\n",
       "       '신고접수.접수자소속기관명', '신고접수.관할 지역 ID', '신고접수.피해아동 상태 구분', '신고접수.재신고센터ID',\n",
       "       '신고접수.관할지역기관ID', '신고접수.관리 센터 ID', '신고접수(대상자관계).행위자 아동 관계',\n",
       "       '신고접수(대상자관계).아동 동거 여부', '신고접수(대상자관계).접수유형', '신고접수(대상자관계).재신고 여부',\n",
       "       '신고접수(대상자관계).재신고 유형.1', '신고접수(대상자관계).재신고센터ID.1', '신고접수(대상자관계).재신고이전',\n",
       "       '신고접수(대상자관계).통계 거점', '신고접수(대상자관계).통계 관할지역', '학대조사.집단 시설내사건',\n",
       "       '학대조사.조사 완료 여부', '학대조사.관할 지역 ID.1', '학대조사.관할 지역 기관 ID',\n",
       "       '학대조사(대상자관계).재신고 여부.1', '학대조사(대상자관계).재신고 유형 구분코드',\n",
       "       '학대조사(대상자관계).재신고 관리 기관', '학대조사(대상자관계).재신고 이전 사건',\n",
       "       '학대조사(대상자관계).동일신고 여부.1', '학대조사(대상자관계).아동 동거 여부.1', '학대조사(대상자관계).특별관리유형',\n",
       "       '판단결과.학대 혐의 여부', '판단결과.학대 유형'],\n",
       "      dtype='object')"
      ]
     },
     "execution_count": 6,
     "metadata": {},
     "output_type": "execute_result"
    }
   ],
   "source": [
    "df.columns"
   ]
  },
  {
   "cell_type": "markdown",
   "metadata": {},
   "source": [
    "cond = df[(df['판단결과.학대 혐의 여부'] == 'Y') & (df['학대조사(대상자관계).재신고 여부.1'] == 'Y')]\n",
    "\n",
    "df['재학대'] = np.where(cond, '1')\n",
    "#이거 꼭 하기!!!"
   ]
  },
  {
   "cell_type": "markdown",
   "metadata": {},
   "source": [
    "if df[(df['판단결과.학대 혐의 여부'] == 'Y') & (df['학대조사(대상자관계).재신고 여부.1'] == 'Y')]:\n",
    "    df['재학대'] = 1\n",
    "else:\n",
    "    df['재학대'] = 0\n"
   ]
  },
  {
   "cell_type": "code",
   "execution_count": 7,
   "metadata": {},
   "outputs": [
    {
     "data": {
      "text/plain": [
       "0          True\n",
       "1          True\n",
       "2          True\n",
       "3          True\n",
       "4          True\n",
       "          ...  \n",
       "122671    False\n",
       "122672     True\n",
       "122673     True\n",
       "122674    False\n",
       "122675    False\n",
       "Name: 학대조사(대상자관계).재신고 이전 사건, Length: 122676, dtype: bool"
      ]
     },
     "execution_count": 7,
     "metadata": {},
     "output_type": "execute_result"
    }
   ],
   "source": [
    "df['학대조사(대상자관계).재신고 이전 사건'].isnull()"
   ]
  },
  {
   "cell_type": "code",
   "execution_count": 8,
   "metadata": {},
   "outputs": [],
   "source": [
    "a = []\n",
    "for i in df['학대조사(대상자관계).재신고 이전 사건'].isnull():\n",
    "    if i == True:\n",
    "        a.append(0)\n",
    "    else:\n",
    "        a.append(1)"
   ]
  },
  {
   "cell_type": "code",
   "execution_count": 9,
   "metadata": {
    "scrolled": true
   },
   "outputs": [
    {
     "data": {
      "text/html": [
       "<div>\n",
       "<style scoped>\n",
       "    .dataframe tbody tr th:only-of-type {\n",
       "        vertical-align: middle;\n",
       "    }\n",
       "\n",
       "    .dataframe tbody tr th {\n",
       "        vertical-align: top;\n",
       "    }\n",
       "\n",
       "    .dataframe thead th {\n",
       "        text-align: right;\n",
       "    }\n",
       "</style>\n",
       "<table border=\"1\" class=\"dataframe\">\n",
       "  <thead>\n",
       "    <tr style=\"text-align: right;\">\n",
       "      <th></th>\n",
       "      <th>개별사건번호</th>\n",
       "      <th>피해아동 대상자ID</th>\n",
       "      <th>학대행위자 대상자ID</th>\n",
       "      <th>아동정보.성별</th>\n",
       "      <th>아동정보.생년월일</th>\n",
       "      <th>아동정보.내국인여부</th>\n",
       "      <th>아동정보.최종 학력</th>\n",
       "      <th>아동정보.직업 유형</th>\n",
       "      <th>아동정보.거주상태</th>\n",
       "      <th>아동정보.친권자 유형</th>\n",
       "      <th>...</th>\n",
       "      <th>학대조사.관할 지역 기관 ID</th>\n",
       "      <th>학대조사(대상자관계).재신고 여부.1</th>\n",
       "      <th>학대조사(대상자관계).재신고 유형 구분코드</th>\n",
       "      <th>학대조사(대상자관계).재신고 관리 기관</th>\n",
       "      <th>학대조사(대상자관계).재신고 이전 사건</th>\n",
       "      <th>학대조사(대상자관계).동일신고 여부.1</th>\n",
       "      <th>학대조사(대상자관계).아동 동거 여부.1</th>\n",
       "      <th>학대조사(대상자관계).특별관리유형</th>\n",
       "      <th>판단결과.학대 혐의 여부</th>\n",
       "      <th>판단결과.학대 유형</th>\n",
       "    </tr>\n",
       "  </thead>\n",
       "  <tbody>\n",
       "    <tr>\n",
       "      <td>0</td>\n",
       "      <td>5722572220181200160001</td>\n",
       "      <td>CASRCP20190100282</td>\n",
       "      <td>CASRCP20190100283</td>\n",
       "      <td>M</td>\n",
       "      <td>20051005.0</td>\n",
       "      <td>내국인</td>\n",
       "      <td>재학중</td>\n",
       "      <td>중학교</td>\n",
       "      <td>자택</td>\n",
       "      <td>친부모</td>\n",
       "      <td>...</td>\n",
       "      <td>경기용인아동보호전문기관</td>\n",
       "      <td>N</td>\n",
       "      <td>NaN</td>\n",
       "      <td>NaN</td>\n",
       "      <td>0</td>\n",
       "      <td>N</td>\n",
       "      <td>Y</td>\n",
       "      <td>NaN</td>\n",
       "      <td>Y</td>\n",
       "      <td>양육관련상담</td>\n",
       "    </tr>\n",
       "    <tr>\n",
       "      <td>1</td>\n",
       "      <td>6603660320181200090001</td>\n",
       "      <td>CASRCP20190101182</td>\n",
       "      <td>CASRCP20190101183</td>\n",
       "      <td>F</td>\n",
       "      <td>20041107.0</td>\n",
       "      <td>NaN</td>\n",
       "      <td>NaN</td>\n",
       "      <td>NaN</td>\n",
       "      <td>NaN</td>\n",
       "      <td>NaN</td>\n",
       "      <td>...</td>\n",
       "      <td>제주특별자치도아동보호전문기관</td>\n",
       "      <td>N</td>\n",
       "      <td>NaN</td>\n",
       "      <td>NaN</td>\n",
       "      <td>0</td>\n",
       "      <td>N</td>\n",
       "      <td>N</td>\n",
       "      <td>NaN</td>\n",
       "      <td>N</td>\n",
       "      <td>NaN</td>\n",
       "    </tr>\n",
       "    <tr>\n",
       "      <td>2</td>\n",
       "      <td>6002600220181200040001</td>\n",
       "      <td>CASRCP20190100497</td>\n",
       "      <td>CASRCP20190100498</td>\n",
       "      <td>F</td>\n",
       "      <td>20040218.0</td>\n",
       "      <td>내국인</td>\n",
       "      <td>재학중</td>\n",
       "      <td>중학교</td>\n",
       "      <td>NaN</td>\n",
       "      <td>친부모</td>\n",
       "      <td>...</td>\n",
       "      <td>충청북도아동보호전문기관</td>\n",
       "      <td>N</td>\n",
       "      <td>NaN</td>\n",
       "      <td>NaN</td>\n",
       "      <td>0</td>\n",
       "      <td>N</td>\n",
       "      <td>Y</td>\n",
       "      <td>NaN</td>\n",
       "      <td>N</td>\n",
       "      <td>NaN</td>\n",
       "    </tr>\n",
       "    <tr>\n",
       "      <td>3</td>\n",
       "      <td>5202520220181200080001</td>\n",
       "      <td>CASRCP20190301533</td>\n",
       "      <td>CASRCP20190301534</td>\n",
       "      <td>M</td>\n",
       "      <td>20030316.0</td>\n",
       "      <td>내국인</td>\n",
       "      <td>재학중</td>\n",
       "      <td>고등학교</td>\n",
       "      <td>NaN</td>\n",
       "      <td>친부모</td>\n",
       "      <td>...</td>\n",
       "      <td>대구북부아동보호전문기관</td>\n",
       "      <td>N</td>\n",
       "      <td>NaN</td>\n",
       "      <td>NaN</td>\n",
       "      <td>0</td>\n",
       "      <td>N</td>\n",
       "      <td>Y</td>\n",
       "      <td>NaN</td>\n",
       "      <td>Y</td>\n",
       "      <td>이혼 및 양육권 소송상담</td>\n",
       "    </tr>\n",
       "    <tr>\n",
       "      <td>4</td>\n",
       "      <td>5601560120181200130001</td>\n",
       "      <td>CASRCP20190100151</td>\n",
       "      <td>CASRCP20190100153</td>\n",
       "      <td>M</td>\n",
       "      <td>20061005.0</td>\n",
       "      <td>내국인</td>\n",
       "      <td>재학중</td>\n",
       "      <td>초등학교</td>\n",
       "      <td>월세</td>\n",
       "      <td>친부모</td>\n",
       "      <td>...</td>\n",
       "      <td>울산광역시아동보호전문기관</td>\n",
       "      <td>N</td>\n",
       "      <td>NaN</td>\n",
       "      <td>NaN</td>\n",
       "      <td>0</td>\n",
       "      <td>N</td>\n",
       "      <td>N</td>\n",
       "      <td>NaN</td>\n",
       "      <td>Y</td>\n",
       "      <td>NaN</td>\n",
       "    </tr>\n",
       "  </tbody>\n",
       "</table>\n",
       "<p>5 rows × 54 columns</p>\n",
       "</div>"
      ],
      "text/plain": [
       "                   개별사건번호         피해아동 대상자ID        학대행위자 대상자ID 아동정보.성별  \\\n",
       "0  5722572220181200160001  CASRCP20190100282  CASRCP20190100283       M   \n",
       "1  6603660320181200090001  CASRCP20190101182  CASRCP20190101183       F   \n",
       "2  6002600220181200040001  CASRCP20190100497  CASRCP20190100498       F   \n",
       "3  5202520220181200080001  CASRCP20190301533  CASRCP20190301534       M   \n",
       "4  5601560120181200130001  CASRCP20190100151  CASRCP20190100153       M   \n",
       "\n",
       "    아동정보.생년월일 아동정보.내국인여부 아동정보.최종 학력 아동정보.직업 유형 아동정보.거주상태 아동정보.친권자 유형  ...  \\\n",
       "0  20051005.0        내국인        재학중        중학교        자택         친부모  ...   \n",
       "1  20041107.0        NaN        NaN        NaN       NaN         NaN  ...   \n",
       "2  20040218.0        내국인        재학중        중학교       NaN         친부모  ...   \n",
       "3  20030316.0        내국인        재학중       고등학교       NaN         친부모  ...   \n",
       "4  20061005.0        내국인        재학중       초등학교        월세         친부모  ...   \n",
       "\n",
       "  학대조사.관할 지역 기관 ID 학대조사(대상자관계).재신고 여부.1 학대조사(대상자관계).재신고 유형 구분코드  \\\n",
       "0     경기용인아동보호전문기관                    N                     NaN   \n",
       "1  제주특별자치도아동보호전문기관                    N                     NaN   \n",
       "2     충청북도아동보호전문기관                    N                     NaN   \n",
       "3     대구북부아동보호전문기관                    N                     NaN   \n",
       "4    울산광역시아동보호전문기관                    N                     NaN   \n",
       "\n",
       "  학대조사(대상자관계).재신고 관리 기관 학대조사(대상자관계).재신고 이전 사건 학대조사(대상자관계).동일신고 여부.1  \\\n",
       "0                   NaN                     0                     N   \n",
       "1                   NaN                     0                     N   \n",
       "2                   NaN                     0                     N   \n",
       "3                   NaN                     0                     N   \n",
       "4                   NaN                     0                     N   \n",
       "\n",
       "  학대조사(대상자관계).아동 동거 여부.1 학대조사(대상자관계).특별관리유형 판단결과.학대 혐의 여부     판단결과.학대 유형  \n",
       "0                      Y                NaN             Y        양육관련상담   \n",
       "1                      N                NaN             N            NaN  \n",
       "2                      Y                NaN             N            NaN  \n",
       "3                      Y                NaN             Y  이혼 및 양육권 소송상담  \n",
       "4                      N                NaN             Y            NaN  \n",
       "\n",
       "[5 rows x 54 columns]"
      ]
     },
     "execution_count": 9,
     "metadata": {},
     "output_type": "execute_result"
    }
   ],
   "source": [
    "# df = df.drop(['재신고 이전 사건 '], axis = 1)\n",
    "df['학대조사(대상자관계).재신고 이전 사건'] = pd.Series(a)\n",
    "df.head()"
   ]
  },
  {
   "cell_type": "code",
   "execution_count": 10,
   "metadata": {
    "scrolled": true
   },
   "outputs": [],
   "source": [
    "df = df.fillna(0)"
   ]
  },
  {
   "cell_type": "markdown",
   "metadata": {},
   "source": [
    "### Random Undersampling"
   ]
  },
  {
   "cell_type": "code",
   "execution_count": 11,
   "metadata": {},
   "outputs": [],
   "source": [
    "from collections import Counter\n",
    "from imblearn.under_sampling import *"
   ]
  },
  {
   "cell_type": "code",
   "execution_count": 12,
   "metadata": {
    "scrolled": true
   },
   "outputs": [
    {
     "data": {
      "text/plain": [
       "Index(['개별사건번호', '피해아동 대상자ID', '학대행위자 대상자ID', '아동정보.성별', '아동정보.생년월일',\n",
       "       '아동정보.내국인여부', '아동정보.최종 학력', '아동정보.직업 유형', '아동정보.거주상태', '아동정보.친권자 유형',\n",
       "       '아동정보.가족 유형', '아동정보.다문화가족', '아동정보.가구 소득 구분코드', '아동정보.기초생활수급 유형',\n",
       "       '신고접수.접수 경로 구분코드', '신고접수.접수 일시', '신고접수.신고자 유형 구분코드', '신고접수.통보 경찰 소속 기관',\n",
       "       '신고접수.통보 일시', '신고접수.집단 시설내사건 구분', '신고접수.재신고 여부(17년)', '신고접수.재신고 유형',\n",
       "       '신고접수.재신고이전접수번호', '신고접수.접수 유형', '신고접수.관할지구대', '신고접수.신고접수 구분',\n",
       "       '신고접수.접수자소속기관명', '신고접수.관할 지역 ID', '신고접수.피해아동 상태 구분', '신고접수.재신고센터ID',\n",
       "       '신고접수.관할지역기관ID', '신고접수.관리 센터 ID', '신고접수(대상자관계).행위자 아동 관계',\n",
       "       '신고접수(대상자관계).아동 동거 여부', '신고접수(대상자관계).접수유형', '신고접수(대상자관계).재신고 여부',\n",
       "       '신고접수(대상자관계).재신고 유형.1', '신고접수(대상자관계).재신고센터ID.1', '신고접수(대상자관계).재신고이전',\n",
       "       '신고접수(대상자관계).통계 거점', '신고접수(대상자관계).통계 관할지역', '학대조사.집단 시설내사건',\n",
       "       '학대조사.조사 완료 여부', '학대조사.관할 지역 ID.1', '학대조사.관할 지역 기관 ID',\n",
       "       '학대조사(대상자관계).재신고 여부.1', '학대조사(대상자관계).재신고 유형 구분코드',\n",
       "       '학대조사(대상자관계).재신고 관리 기관', '학대조사(대상자관계).재신고 이전 사건',\n",
       "       '학대조사(대상자관계).동일신고 여부.1', '학대조사(대상자관계).아동 동거 여부.1', '학대조사(대상자관계).특별관리유형',\n",
       "       '판단결과.학대 혐의 여부', '판단결과.학대 유형'],\n",
       "      dtype='object')"
      ]
     },
     "execution_count": 12,
     "metadata": {},
     "output_type": "execute_result"
    }
   ],
   "source": [
    "df.columns"
   ]
  },
  {
   "cell_type": "code",
   "execution_count": 21,
   "metadata": {},
   "outputs": [],
   "source": [
    "X = df[['아동정보.성별',\n",
    "       '아동정보.내국인여부', '아동정보.최종 학력', '아동정보.직업 유형', '아동정보.거주상태', '아동정보.친권자 유형',\n",
    "       '아동정보.가족 유형', '아동정보.다문화가족', '아동정보.가구 소득 구분코드', '아동정보.기초생활수급 유형',\n",
    "       '신고접수.접수 경로 구분코드', '신고접수.신고자 유형 구분코드', '신고접수.통보 경찰 소속 기관',\n",
    "       '신고접수.통보 일시', '신고접수.집단 시설내사건 구분', '신고접수.재신고 여부(17년)', '신고접수.재신고 유형',\n",
    "       '신고접수.접수 유형', '신고접수.관할지구대', '신고접수.신고접수 구분',\n",
    "       '신고접수.접수자소속기관명', '신고접수.관할 지역 ID', '신고접수.피해아동 상태 구분', '신고접수.재신고센터ID',\n",
    "       '신고접수.관할지역기관ID', '신고접수.관리 센터 ID', '신고접수(대상자관계).행위자 아동 관계',\n",
    "       '신고접수(대상자관계).아동 동거 여부', '신고접수(대상자관계).접수유형', '신고접수(대상자관계).재신고 여부',\n",
    "       '신고접수(대상자관계).재신고 유형.1', '신고접수(대상자관계).재신고센터ID.1',\n",
    "       '신고접수(대상자관계).통계 거점', '신고접수(대상자관계).통계 관할지역', '학대조사.집단 시설내사건',\n",
    "       '학대조사.조사 완료 여부', '학대조사.관할 지역 ID.1', '학대조사.관할 지역 기관 ID',\n",
    "       '학대조사(대상자관계).재신고 여부.1', '학대조사(대상자관계).재신고 유형 구분코드',\n",
    "       '학대조사(대상자관계).재신고 관리 기관',\n",
    "       '학대조사(대상자관계).동일신고 여부.1', '학대조사(대상자관계).아동 동거 여부.1', '학대조사(대상자관계).특별관리유형',\n",
    "       '판단결과.학대 혐의 여부', '판단결과.학대 유형']]\n",
    "y = df[ '학대조사(대상자관계).재신고 이전 사건']\n",
    "#y를 0,1을 바꿔서 해보고 모델의 신뢰성을 검증해보기 \n",
    "#삭제 : 신고 접수 일시, '신고접수.재신고이전접수번호', 신고접수(대상자관계).재신고이전, 아동정보.생년월일"
   ]
  },
  {
   "cell_type": "code",
   "execution_count": 22,
   "metadata": {},
   "outputs": [],
   "source": [
    "X_usp,y_usp = RandomUnderSampler(random_state = 10).fit_sample(X,y)\n",
    "#train에만 undersampling만 해서 모델 학습시켜보기 "
   ]
  },
  {
   "cell_type": "code",
   "execution_count": 23,
   "metadata": {},
   "outputs": [],
   "source": [
    "data_dummies = pd.get_dummies(X_usp)"
   ]
  },
  {
   "cell_type": "code",
   "execution_count": 24,
   "metadata": {},
   "outputs": [
    {
     "data": {
      "text/html": [
       "<div>\n",
       "<style scoped>\n",
       "    .dataframe tbody tr th:only-of-type {\n",
       "        vertical-align: middle;\n",
       "    }\n",
       "\n",
       "    .dataframe tbody tr th {\n",
       "        vertical-align: top;\n",
       "    }\n",
       "\n",
       "    .dataframe thead th {\n",
       "        text-align: right;\n",
       "    }\n",
       "</style>\n",
       "<table border=\"1\" class=\"dataframe\">\n",
       "  <thead>\n",
       "    <tr style=\"text-align: right;\">\n",
       "      <th></th>\n",
       "      <th>아동정보.성별_0</th>\n",
       "      <th>아동정보.성별_F</th>\n",
       "      <th>아동정보.성별_M</th>\n",
       "      <th>아동정보.성별_Z</th>\n",
       "      <th>아동정보.내국인여부_0</th>\n",
       "      <th>아동정보.내국인여부_내국인</th>\n",
       "      <th>아동정보.내국인여부_무국적</th>\n",
       "      <th>아동정보.내국인여부_외국인</th>\n",
       "      <th>아동정보.최종 학력_0</th>\n",
       "      <th>아동정보.최종 학력_고등졸업</th>\n",
       "      <th>...</th>\n",
       "      <th>학대조사(대상자관계).특별관리유형_0</th>\n",
       "      <th>학대조사(대상자관계).특별관리유형_공동모금회사업</th>\n",
       "      <th>학대조사(대상자관계).특별관리유형_종단연구</th>\n",
       "      <th>판단결과.학대 혐의 여부_N</th>\n",
       "      <th>판단결과.학대 혐의 여부_Y</th>\n",
       "      <th>판단결과.학대 유형_0</th>\n",
       "      <th>판단결과.학대 유형_성인이 아닌 자에 의한 학대</th>\n",
       "      <th>판단결과.학대 유형_시설입소상담</th>\n",
       "      <th>판단결과.학대 유형_양육관련상담</th>\n",
       "      <th>판단결과.학대 유형_이혼 및 양육권 소송상담</th>\n",
       "    </tr>\n",
       "  </thead>\n",
       "  <tbody>\n",
       "    <tr>\n",
       "      <td>0</td>\n",
       "      <td>0</td>\n",
       "      <td>0</td>\n",
       "      <td>0</td>\n",
       "      <td>1</td>\n",
       "      <td>1</td>\n",
       "      <td>0</td>\n",
       "      <td>0</td>\n",
       "      <td>0</td>\n",
       "      <td>1</td>\n",
       "      <td>0</td>\n",
       "      <td>...</td>\n",
       "      <td>1</td>\n",
       "      <td>0</td>\n",
       "      <td>0</td>\n",
       "      <td>1</td>\n",
       "      <td>0</td>\n",
       "      <td>1</td>\n",
       "      <td>0</td>\n",
       "      <td>0</td>\n",
       "      <td>0</td>\n",
       "      <td>0</td>\n",
       "    </tr>\n",
       "    <tr>\n",
       "      <td>1</td>\n",
       "      <td>0</td>\n",
       "      <td>0</td>\n",
       "      <td>1</td>\n",
       "      <td>0</td>\n",
       "      <td>1</td>\n",
       "      <td>0</td>\n",
       "      <td>0</td>\n",
       "      <td>0</td>\n",
       "      <td>1</td>\n",
       "      <td>0</td>\n",
       "      <td>...</td>\n",
       "      <td>1</td>\n",
       "      <td>0</td>\n",
       "      <td>0</td>\n",
       "      <td>0</td>\n",
       "      <td>1</td>\n",
       "      <td>0</td>\n",
       "      <td>0</td>\n",
       "      <td>0</td>\n",
       "      <td>0</td>\n",
       "      <td>1</td>\n",
       "    </tr>\n",
       "    <tr>\n",
       "      <td>2</td>\n",
       "      <td>0</td>\n",
       "      <td>1</td>\n",
       "      <td>0</td>\n",
       "      <td>0</td>\n",
       "      <td>0</td>\n",
       "      <td>1</td>\n",
       "      <td>0</td>\n",
       "      <td>0</td>\n",
       "      <td>1</td>\n",
       "      <td>0</td>\n",
       "      <td>...</td>\n",
       "      <td>1</td>\n",
       "      <td>0</td>\n",
       "      <td>0</td>\n",
       "      <td>0</td>\n",
       "      <td>1</td>\n",
       "      <td>0</td>\n",
       "      <td>0</td>\n",
       "      <td>0</td>\n",
       "      <td>0</td>\n",
       "      <td>1</td>\n",
       "    </tr>\n",
       "    <tr>\n",
       "      <td>3</td>\n",
       "      <td>0</td>\n",
       "      <td>1</td>\n",
       "      <td>0</td>\n",
       "      <td>0</td>\n",
       "      <td>1</td>\n",
       "      <td>0</td>\n",
       "      <td>0</td>\n",
       "      <td>0</td>\n",
       "      <td>1</td>\n",
       "      <td>0</td>\n",
       "      <td>...</td>\n",
       "      <td>1</td>\n",
       "      <td>0</td>\n",
       "      <td>0</td>\n",
       "      <td>1</td>\n",
       "      <td>0</td>\n",
       "      <td>1</td>\n",
       "      <td>0</td>\n",
       "      <td>0</td>\n",
       "      <td>0</td>\n",
       "      <td>0</td>\n",
       "    </tr>\n",
       "    <tr>\n",
       "      <td>4</td>\n",
       "      <td>0</td>\n",
       "      <td>1</td>\n",
       "      <td>0</td>\n",
       "      <td>0</td>\n",
       "      <td>0</td>\n",
       "      <td>1</td>\n",
       "      <td>0</td>\n",
       "      <td>0</td>\n",
       "      <td>0</td>\n",
       "      <td>0</td>\n",
       "      <td>...</td>\n",
       "      <td>1</td>\n",
       "      <td>0</td>\n",
       "      <td>0</td>\n",
       "      <td>0</td>\n",
       "      <td>1</td>\n",
       "      <td>0</td>\n",
       "      <td>0</td>\n",
       "      <td>0</td>\n",
       "      <td>1</td>\n",
       "      <td>0</td>\n",
       "    </tr>\n",
       "    <tr>\n",
       "      <td>...</td>\n",
       "      <td>...</td>\n",
       "      <td>...</td>\n",
       "      <td>...</td>\n",
       "      <td>...</td>\n",
       "      <td>...</td>\n",
       "      <td>...</td>\n",
       "      <td>...</td>\n",
       "      <td>...</td>\n",
       "      <td>...</td>\n",
       "      <td>...</td>\n",
       "      <td>...</td>\n",
       "      <td>...</td>\n",
       "      <td>...</td>\n",
       "      <td>...</td>\n",
       "      <td>...</td>\n",
       "      <td>...</td>\n",
       "      <td>...</td>\n",
       "      <td>...</td>\n",
       "      <td>...</td>\n",
       "      <td>...</td>\n",
       "      <td>...</td>\n",
       "    </tr>\n",
       "    <tr>\n",
       "      <td>29837</td>\n",
       "      <td>0</td>\n",
       "      <td>0</td>\n",
       "      <td>1</td>\n",
       "      <td>0</td>\n",
       "      <td>0</td>\n",
       "      <td>1</td>\n",
       "      <td>0</td>\n",
       "      <td>0</td>\n",
       "      <td>1</td>\n",
       "      <td>0</td>\n",
       "      <td>...</td>\n",
       "      <td>1</td>\n",
       "      <td>0</td>\n",
       "      <td>0</td>\n",
       "      <td>0</td>\n",
       "      <td>1</td>\n",
       "      <td>1</td>\n",
       "      <td>0</td>\n",
       "      <td>0</td>\n",
       "      <td>0</td>\n",
       "      <td>0</td>\n",
       "    </tr>\n",
       "    <tr>\n",
       "      <td>29838</td>\n",
       "      <td>0</td>\n",
       "      <td>0</td>\n",
       "      <td>1</td>\n",
       "      <td>0</td>\n",
       "      <td>0</td>\n",
       "      <td>1</td>\n",
       "      <td>0</td>\n",
       "      <td>0</td>\n",
       "      <td>1</td>\n",
       "      <td>0</td>\n",
       "      <td>...</td>\n",
       "      <td>1</td>\n",
       "      <td>0</td>\n",
       "      <td>0</td>\n",
       "      <td>1</td>\n",
       "      <td>0</td>\n",
       "      <td>1</td>\n",
       "      <td>0</td>\n",
       "      <td>0</td>\n",
       "      <td>0</td>\n",
       "      <td>0</td>\n",
       "    </tr>\n",
       "    <tr>\n",
       "      <td>29839</td>\n",
       "      <td>0</td>\n",
       "      <td>1</td>\n",
       "      <td>0</td>\n",
       "      <td>0</td>\n",
       "      <td>0</td>\n",
       "      <td>1</td>\n",
       "      <td>0</td>\n",
       "      <td>0</td>\n",
       "      <td>0</td>\n",
       "      <td>0</td>\n",
       "      <td>...</td>\n",
       "      <td>1</td>\n",
       "      <td>0</td>\n",
       "      <td>0</td>\n",
       "      <td>0</td>\n",
       "      <td>1</td>\n",
       "      <td>0</td>\n",
       "      <td>0</td>\n",
       "      <td>0</td>\n",
       "      <td>0</td>\n",
       "      <td>1</td>\n",
       "    </tr>\n",
       "    <tr>\n",
       "      <td>29840</td>\n",
       "      <td>0</td>\n",
       "      <td>0</td>\n",
       "      <td>1</td>\n",
       "      <td>0</td>\n",
       "      <td>0</td>\n",
       "      <td>1</td>\n",
       "      <td>0</td>\n",
       "      <td>0</td>\n",
       "      <td>1</td>\n",
       "      <td>0</td>\n",
       "      <td>...</td>\n",
       "      <td>1</td>\n",
       "      <td>0</td>\n",
       "      <td>0</td>\n",
       "      <td>0</td>\n",
       "      <td>1</td>\n",
       "      <td>1</td>\n",
       "      <td>0</td>\n",
       "      <td>0</td>\n",
       "      <td>0</td>\n",
       "      <td>0</td>\n",
       "    </tr>\n",
       "    <tr>\n",
       "      <td>29841</td>\n",
       "      <td>0</td>\n",
       "      <td>1</td>\n",
       "      <td>0</td>\n",
       "      <td>0</td>\n",
       "      <td>0</td>\n",
       "      <td>1</td>\n",
       "      <td>0</td>\n",
       "      <td>0</td>\n",
       "      <td>1</td>\n",
       "      <td>0</td>\n",
       "      <td>...</td>\n",
       "      <td>1</td>\n",
       "      <td>0</td>\n",
       "      <td>0</td>\n",
       "      <td>0</td>\n",
       "      <td>1</td>\n",
       "      <td>1</td>\n",
       "      <td>0</td>\n",
       "      <td>0</td>\n",
       "      <td>0</td>\n",
       "      <td>0</td>\n",
       "    </tr>\n",
       "  </tbody>\n",
       "</table>\n",
       "<p>29842 rows × 6339 columns</p>\n",
       "</div>"
      ],
      "text/plain": [
       "       아동정보.성별_0  아동정보.성별_F  아동정보.성별_M  아동정보.성별_Z  아동정보.내국인여부_0  \\\n",
       "0              0          0          0          1             1   \n",
       "1              0          0          1          0             1   \n",
       "2              0          1          0          0             0   \n",
       "3              0          1          0          0             1   \n",
       "4              0          1          0          0             0   \n",
       "...          ...        ...        ...        ...           ...   \n",
       "29837          0          0          1          0             0   \n",
       "29838          0          0          1          0             0   \n",
       "29839          0          1          0          0             0   \n",
       "29840          0          0          1          0             0   \n",
       "29841          0          1          0          0             0   \n",
       "\n",
       "       아동정보.내국인여부_내국인  아동정보.내국인여부_무국적  아동정보.내국인여부_외국인  아동정보.최종 학력_0  \\\n",
       "0                   0               0               0             1   \n",
       "1                   0               0               0             1   \n",
       "2                   1               0               0             1   \n",
       "3                   0               0               0             1   \n",
       "4                   1               0               0             0   \n",
       "...               ...             ...             ...           ...   \n",
       "29837               1               0               0             1   \n",
       "29838               1               0               0             1   \n",
       "29839               1               0               0             0   \n",
       "29840               1               0               0             1   \n",
       "29841               1               0               0             1   \n",
       "\n",
       "       아동정보.최종 학력_고등졸업  ...  학대조사(대상자관계).특별관리유형_0  학대조사(대상자관계).특별관리유형_공동모금회사업  \\\n",
       "0                    0  ...                     1                           0   \n",
       "1                    0  ...                     1                           0   \n",
       "2                    0  ...                     1                           0   \n",
       "3                    0  ...                     1                           0   \n",
       "4                    0  ...                     1                           0   \n",
       "...                ...  ...                   ...                         ...   \n",
       "29837                0  ...                     1                           0   \n",
       "29838                0  ...                     1                           0   \n",
       "29839                0  ...                     1                           0   \n",
       "29840                0  ...                     1                           0   \n",
       "29841                0  ...                     1                           0   \n",
       "\n",
       "       학대조사(대상자관계).특별관리유형_종단연구  판단결과.학대 혐의 여부_N  판단결과.학대 혐의 여부_Y  \\\n",
       "0                            0                1                0   \n",
       "1                            0                0                1   \n",
       "2                            0                0                1   \n",
       "3                            0                1                0   \n",
       "4                            0                0                1   \n",
       "...                        ...              ...              ...   \n",
       "29837                        0                0                1   \n",
       "29838                        0                1                0   \n",
       "29839                        0                0                1   \n",
       "29840                        0                0                1   \n",
       "29841                        0                0                1   \n",
       "\n",
       "       판단결과.학대 유형_0  판단결과.학대 유형_성인이 아닌 자에 의한 학대  판단결과.학대 유형_시설입소상담  \\\n",
       "0                 1                           0                  0   \n",
       "1                 0                           0                  0   \n",
       "2                 0                           0                  0   \n",
       "3                 1                           0                  0   \n",
       "4                 0                           0                  0   \n",
       "...             ...                         ...                ...   \n",
       "29837             1                           0                  0   \n",
       "29838             1                           0                  0   \n",
       "29839             0                           0                  0   \n",
       "29840             1                           0                  0   \n",
       "29841             1                           0                  0   \n",
       "\n",
       "       판단결과.학대 유형_양육관련상담   판단결과.학대 유형_이혼 및 양육권 소송상담  \n",
       "0                       0                         0  \n",
       "1                       0                         1  \n",
       "2                       0                         1  \n",
       "3                       0                         0  \n",
       "4                       1                         0  \n",
       "...                   ...                       ...  \n",
       "29837                   0                         0  \n",
       "29838                   0                         0  \n",
       "29839                   0                         1  \n",
       "29840                   0                         0  \n",
       "29841                   0                         0  \n",
       "\n",
       "[29842 rows x 6339 columns]"
      ]
     },
     "execution_count": 24,
     "metadata": {},
     "output_type": "execute_result"
    }
   ],
   "source": [
    "data_dummies"
   ]
  },
  {
   "cell_type": "code",
   "execution_count": 25,
   "metadata": {},
   "outputs": [
    {
     "name": "stdout",
     "output_type": "stream",
     "text": [
      "(29842, 6339)\n",
      "(29842,)\n"
     ]
    }
   ],
   "source": [
    "print(data_dummies.shape)\n",
    "print(y_usp.shape)\n",
    "#깔끔"
   ]
  },
  {
   "cell_type": "code",
   "execution_count": 26,
   "metadata": {},
   "outputs": [],
   "source": [
    "X_train, X_test, y_train, y_test = train_test_split(data_dummies,y_usp, test_size = 0.3, random_state = 10)"
   ]
  },
  {
   "cell_type": "code",
   "execution_count": 27,
   "metadata": {},
   "outputs": [],
   "source": [
    "X_train = X_train.dropna()"
   ]
  },
  {
   "cell_type": "code",
   "execution_count": 28,
   "metadata": {
    "scrolled": false
   },
   "outputs": [
    {
     "name": "stdout",
     "output_type": "stream",
     "text": [
      "(20889, 6339)\n",
      "(20889,)\n"
     ]
    }
   ],
   "source": [
    "print(X_train.shape)\n",
    "print(y_train.shape)"
   ]
  },
  {
   "cell_type": "code",
   "execution_count": 29,
   "metadata": {
    "scrolled": true
   },
   "outputs": [
    {
     "data": {
      "text/plain": [
       "Index(['아동정보.성별_0', '아동정보.성별_F', '아동정보.성별_M', '아동정보.성별_Z', '아동정보.내국인여부_0',\n",
       "       '아동정보.내국인여부_내국인', '아동정보.내국인여부_무국적', '아동정보.내국인여부_외국인', '아동정보.최종 학력_0',\n",
       "       '아동정보.최종 학력_고등졸업',\n",
       "       ...\n",
       "       '학대조사(대상자관계).특별관리유형_0', '학대조사(대상자관계).특별관리유형_공동모금회사업',\n",
       "       '학대조사(대상자관계).특별관리유형_종단연구', '판단결과.학대 혐의 여부_N', '판단결과.학대 혐의 여부_Y',\n",
       "       '판단결과.학대 유형_0', '판단결과.학대 유형_성인이 아닌 자에 의한 학대', '판단결과.학대 유형_시설입소상담',\n",
       "       '판단결과.학대 유형_양육관련상담 ', '판단결과.학대 유형_이혼 및 양육권 소송상담'],\n",
       "      dtype='object', length=6339)"
      ]
     },
     "execution_count": 29,
     "metadata": {},
     "output_type": "execute_result"
    }
   ],
   "source": [
    "X_train.columns"
   ]
  },
  {
   "cell_type": "code",
   "execution_count": 30,
   "metadata": {},
   "outputs": [
    {
     "data": {
      "text/plain": [
       "Index(['아동정보.성별_0', '아동정보.성별_F', '아동정보.성별_M', '아동정보.성별_Z', '아동정보.내국인여부_0',\n",
       "       '아동정보.내국인여부_내국인', '아동정보.내국인여부_무국적', '아동정보.내국인여부_외국인', '아동정보.최종 학력_0',\n",
       "       '아동정보.최종 학력_고등졸업',\n",
       "       ...\n",
       "       '학대조사(대상자관계).특별관리유형_0', '학대조사(대상자관계).특별관리유형_공동모금회사업',\n",
       "       '학대조사(대상자관계).특별관리유형_종단연구', '판단결과.학대 혐의 여부_N', '판단결과.학대 혐의 여부_Y',\n",
       "       '판단결과.학대 유형_0', '판단결과.학대 유형_성인이 아닌 자에 의한 학대', '판단결과.학대 유형_시설입소상담',\n",
       "       '판단결과.학대 유형_양육관련상담 ', '판단결과.학대 유형_이혼 및 양육권 소송상담'],\n",
       "      dtype='object', length=6339)"
      ]
     },
     "execution_count": 30,
     "metadata": {},
     "output_type": "execute_result"
    }
   ],
   "source": [
    "X_test.columns"
   ]
  },
  {
   "cell_type": "code",
   "execution_count": 31,
   "metadata": {},
   "outputs": [
    {
     "data": {
      "text/plain": [
       "아동정보.성별_0                     0\n",
       "아동정보.성별_F                     0\n",
       "아동정보.성별_M                     0\n",
       "아동정보.성별_Z                     0\n",
       "아동정보.내국인여부_0                  0\n",
       "                             ..\n",
       "판단결과.학대 유형_0                  0\n",
       "판단결과.학대 유형_성인이 아닌 자에 의한 학대    0\n",
       "판단결과.학대 유형_시설입소상담             0\n",
       "판단결과.학대 유형_양육관련상담             0\n",
       "판단결과.학대 유형_이혼 및 양육권 소송상담      0\n",
       "Length: 6339, dtype: int64"
      ]
     },
     "execution_count": 31,
     "metadata": {},
     "output_type": "execute_result"
    }
   ],
   "source": [
    "X_train.isnull().sum()"
   ]
  },
  {
   "cell_type": "markdown",
   "metadata": {},
   "source": [
    "### Decision Tree"
   ]
  },
  {
   "cell_type": "code",
   "execution_count": 32,
   "metadata": {},
   "outputs": [],
   "source": [
    "from sklearn.preprocessing import StandardScaler\n",
    "import xgboost as xgb\n",
    "import warnings\n",
    "from sklearn.metrics import confusion_matrix, accuracy_score, precision_score, recall_score\n",
    "from sklearn.metrics import confusion_matrix, f1_score, roc_auc_score"
   ]
  },
  {
   "cell_type": "code",
   "execution_count": 33,
   "metadata": {},
   "outputs": [
    {
     "data": {
      "text/plain": [
       "StandardScaler()"
      ]
     },
     "execution_count": 33,
     "metadata": {},
     "output_type": "execute_result"
    }
   ],
   "source": [
    "sc = StandardScaler()\n",
    "sc.fit(X_train)"
   ]
  },
  {
   "cell_type": "code",
   "execution_count": 34,
   "metadata": {},
   "outputs": [
    {
     "data": {
      "text/plain": [
       "DecisionTreeClassifier(criterion='entropy', max_depth=5, max_features=3,\n",
       "                       random_state=10)"
      ]
     },
     "execution_count": 34,
     "metadata": {},
     "output_type": "execute_result"
    }
   ],
   "source": [
    "from sklearn import tree\n",
    "Child_tree = tree.DecisionTreeClassifier(criterion='entropy', max_depth=5, random_state=10, max_features= 3)\n",
    "Child_tree.fit(X_train, y_train)"
   ]
  },
  {
   "cell_type": "code",
   "execution_count": 35,
   "metadata": {},
   "outputs": [
    {
     "name": "stdout",
     "output_type": "stream",
     "text": [
      "Accuracy: 0.50\n"
     ]
    }
   ],
   "source": [
    "from sklearn.metrics import accuracy_score\n",
    "\n",
    "y_pred_tr = Child_tree.predict(X_test)\n",
    "print('Accuracy: %.2f' % accuracy_score(y_test, y_pred_tr))"
   ]
  },
  {
   "cell_type": "markdown",
   "metadata": {},
   "source": [
    "### XGBOOST"
   ]
  },
  {
   "cell_type": "code",
   "execution_count": 36,
   "metadata": {
    "scrolled": true
   },
   "outputs": [
    {
     "name": "stdout",
     "output_type": "stream",
     "text": [
      "(20889, 6339) (20889,)\n",
      "[13:38:43] WARNING: /Users/travis/build/dmlc/xgboost/src/learner.cc:480: \n",
      "Parameters: { subsampling } might not be used.\n",
      "\n",
      "  This may not be accurate due to some parameters are only used in language bindings but\n",
      "  passed down to XGBoost core.  Or some parameters are not used but slip through this\n",
      "  verification. Please open an issue if you find above cases.\n",
      "\n",
      "\n"
     ]
    },
    {
     "ename": "KeyboardInterrupt",
     "evalue": "",
     "output_type": "error",
     "traceback": [
      "\u001b[0;31m---------------------------------------------------------------------------\u001b[0m",
      "\u001b[0;31mKeyboardInterrupt\u001b[0m                         Traceback (most recent call last)",
      "\u001b[0;32m<ipython-input-36-26aa851b3bfc>\u001b[0m in \u001b[0;36m<module>\u001b[0;34m\u001b[0m\n\u001b[1;32m      9\u001b[0m \u001b[0;34m\u001b[0m\u001b[0m\n\u001b[1;32m     10\u001b[0m \u001b[0mprint\u001b[0m\u001b[0;34m(\u001b[0m\u001b[0mX_train\u001b[0m\u001b[0;34m.\u001b[0m\u001b[0mshape\u001b[0m\u001b[0;34m,\u001b[0m \u001b[0my_train\u001b[0m\u001b[0;34m.\u001b[0m\u001b[0mshape\u001b[0m\u001b[0;34m)\u001b[0m\u001b[0;34m\u001b[0m\u001b[0;34m\u001b[0m\u001b[0m\n\u001b[0;32m---> 11\u001b[0;31m \u001b[0mxgb_model\u001b[0m\u001b[0;34m.\u001b[0m\u001b[0mfit\u001b[0m\u001b[0;34m(\u001b[0m\u001b[0mX_train\u001b[0m\u001b[0;34m,\u001b[0m \u001b[0my_train\u001b[0m\u001b[0;34m)\u001b[0m\u001b[0;34m\u001b[0m\u001b[0;34m\u001b[0m\u001b[0m\n\u001b[0m",
      "\u001b[0;32m~/opt/anaconda3/lib/python3.7/site-packages/xgboost/sklearn.py\u001b[0m in \u001b[0;36mfit\u001b[0;34m(self, X, y, sample_weight, base_margin, eval_set, eval_metric, early_stopping_rounds, verbose, xgb_model, sample_weight_eval_set, callbacks)\u001b[0m\n\u001b[1;32m    542\u001b[0m                               \u001b[0mevals_result\u001b[0m\u001b[0;34m=\u001b[0m\u001b[0mevals_result\u001b[0m\u001b[0;34m,\u001b[0m \u001b[0mobj\u001b[0m\u001b[0;34m=\u001b[0m\u001b[0mobj\u001b[0m\u001b[0;34m,\u001b[0m \u001b[0mfeval\u001b[0m\u001b[0;34m=\u001b[0m\u001b[0mfeval\u001b[0m\u001b[0;34m,\u001b[0m\u001b[0;34m\u001b[0m\u001b[0;34m\u001b[0m\u001b[0m\n\u001b[1;32m    543\u001b[0m                               \u001b[0mverbose_eval\u001b[0m\u001b[0;34m=\u001b[0m\u001b[0mverbose\u001b[0m\u001b[0;34m,\u001b[0m \u001b[0mxgb_model\u001b[0m\u001b[0;34m=\u001b[0m\u001b[0mxgb_model\u001b[0m\u001b[0;34m,\u001b[0m\u001b[0;34m\u001b[0m\u001b[0;34m\u001b[0m\u001b[0m\n\u001b[0;32m--> 544\u001b[0;31m                               callbacks=callbacks)\n\u001b[0m\u001b[1;32m    545\u001b[0m \u001b[0;34m\u001b[0m\u001b[0m\n\u001b[1;32m    546\u001b[0m         \u001b[0;32mif\u001b[0m \u001b[0mevals_result\u001b[0m\u001b[0;34m:\u001b[0m\u001b[0;34m\u001b[0m\u001b[0;34m\u001b[0m\u001b[0m\n",
      "\u001b[0;32m~/opt/anaconda3/lib/python3.7/site-packages/xgboost/training.py\u001b[0m in \u001b[0;36mtrain\u001b[0;34m(params, dtrain, num_boost_round, evals, obj, feval, maximize, early_stopping_rounds, evals_result, verbose_eval, xgb_model, callbacks)\u001b[0m\n\u001b[1;32m    210\u001b[0m                            \u001b[0mevals\u001b[0m\u001b[0;34m=\u001b[0m\u001b[0mevals\u001b[0m\u001b[0;34m,\u001b[0m\u001b[0;34m\u001b[0m\u001b[0;34m\u001b[0m\u001b[0m\n\u001b[1;32m    211\u001b[0m                            \u001b[0mobj\u001b[0m\u001b[0;34m=\u001b[0m\u001b[0mobj\u001b[0m\u001b[0;34m,\u001b[0m \u001b[0mfeval\u001b[0m\u001b[0;34m=\u001b[0m\u001b[0mfeval\u001b[0m\u001b[0;34m,\u001b[0m\u001b[0;34m\u001b[0m\u001b[0;34m\u001b[0m\u001b[0m\n\u001b[0;32m--> 212\u001b[0;31m                            xgb_model=xgb_model, callbacks=callbacks)\n\u001b[0m\u001b[1;32m    213\u001b[0m \u001b[0;34m\u001b[0m\u001b[0m\n\u001b[1;32m    214\u001b[0m \u001b[0;34m\u001b[0m\u001b[0m\n",
      "\u001b[0;32m~/opt/anaconda3/lib/python3.7/site-packages/xgboost/training.py\u001b[0m in \u001b[0;36m_train_internal\u001b[0;34m(params, dtrain, num_boost_round, evals, obj, feval, xgb_model, callbacks)\u001b[0m\n\u001b[1;32m     73\u001b[0m         \u001b[0;31m# Skip the first update if it is a recovery step.\u001b[0m\u001b[0;34m\u001b[0m\u001b[0;34m\u001b[0m\u001b[0;34m\u001b[0m\u001b[0m\n\u001b[1;32m     74\u001b[0m         \u001b[0;32mif\u001b[0m \u001b[0mversion\u001b[0m \u001b[0;34m%\u001b[0m \u001b[0;36m2\u001b[0m \u001b[0;34m==\u001b[0m \u001b[0;36m0\u001b[0m\u001b[0;34m:\u001b[0m\u001b[0;34m\u001b[0m\u001b[0;34m\u001b[0m\u001b[0m\n\u001b[0;32m---> 75\u001b[0;31m             \u001b[0mbst\u001b[0m\u001b[0;34m.\u001b[0m\u001b[0mupdate\u001b[0m\u001b[0;34m(\u001b[0m\u001b[0mdtrain\u001b[0m\u001b[0;34m,\u001b[0m \u001b[0mi\u001b[0m\u001b[0;34m,\u001b[0m \u001b[0mobj\u001b[0m\u001b[0;34m)\u001b[0m\u001b[0;34m\u001b[0m\u001b[0;34m\u001b[0m\u001b[0m\n\u001b[0m\u001b[1;32m     76\u001b[0m             \u001b[0mbst\u001b[0m\u001b[0;34m.\u001b[0m\u001b[0msave_rabit_checkpoint\u001b[0m\u001b[0;34m(\u001b[0m\u001b[0;34m)\u001b[0m\u001b[0;34m\u001b[0m\u001b[0;34m\u001b[0m\u001b[0m\n\u001b[1;32m     77\u001b[0m             \u001b[0mversion\u001b[0m \u001b[0;34m+=\u001b[0m \u001b[0;36m1\u001b[0m\u001b[0;34m\u001b[0m\u001b[0;34m\u001b[0m\u001b[0m\n",
      "\u001b[0;32m~/opt/anaconda3/lib/python3.7/site-packages/xgboost/core.py\u001b[0m in \u001b[0;36mupdate\u001b[0;34m(self, dtrain, iteration, fobj)\u001b[0m\n\u001b[1;32m   1367\u001b[0m             _check_call(_LIB.XGBoosterUpdateOneIter(self.handle,\n\u001b[1;32m   1368\u001b[0m                                                     \u001b[0mctypes\u001b[0m\u001b[0;34m.\u001b[0m\u001b[0mc_int\u001b[0m\u001b[0;34m(\u001b[0m\u001b[0miteration\u001b[0m\u001b[0;34m)\u001b[0m\u001b[0;34m,\u001b[0m\u001b[0;34m\u001b[0m\u001b[0;34m\u001b[0m\u001b[0m\n\u001b[0;32m-> 1369\u001b[0;31m                                                     dtrain.handle))\n\u001b[0m\u001b[1;32m   1370\u001b[0m         \u001b[0;32melse\u001b[0m\u001b[0;34m:\u001b[0m\u001b[0;34m\u001b[0m\u001b[0;34m\u001b[0m\u001b[0m\n\u001b[1;32m   1371\u001b[0m             \u001b[0mpred\u001b[0m \u001b[0;34m=\u001b[0m \u001b[0mself\u001b[0m\u001b[0;34m.\u001b[0m\u001b[0mpredict\u001b[0m\u001b[0;34m(\u001b[0m\u001b[0mdtrain\u001b[0m\u001b[0;34m,\u001b[0m \u001b[0moutput_margin\u001b[0m\u001b[0;34m=\u001b[0m\u001b[0;32mTrue\u001b[0m\u001b[0;34m,\u001b[0m \u001b[0mtraining\u001b[0m\u001b[0;34m=\u001b[0m\u001b[0;32mTrue\u001b[0m\u001b[0;34m)\u001b[0m\u001b[0;34m\u001b[0m\u001b[0;34m\u001b[0m\u001b[0m\n",
      "\u001b[0;31mKeyboardInterrupt\u001b[0m: "
     ]
    }
   ],
   "source": [
    "epoch = 100\n",
    "learning_rate = 0.05\n",
    "gamma = 0\n",
    "subsampling = 0.6\n",
    "max_depth = 7\n",
    "xgb_model = xgboost.XGBRegressor(n_estimators = 100, learning_rate = learning_rate, \n",
    "                                 gamma = gamma, subsampling = subsampling,\n",
    "                                 colsample_bytree = 1, max_depth = max_depth)\n",
    "\n",
    "print(X_train.shape, y_train.shape)\n",
    "xgb_model.fit(X_train, y_train)"
   ]
  },
  {
   "cell_type": "code",
   "execution_count": null,
   "metadata": {},
   "outputs": [],
   "source": [
    "xgboost.plot_importance(xgb_model)"
   ]
  },
  {
   "cell_type": "code",
   "execution_count": null,
   "metadata": {},
   "outputs": [],
   "source": [
    "dtrain = xgb.DMatrix(data=X_train, label = y_train)\n",
    "dtest = xgb.DMatrix(data=X_test, label=y_test)"
   ]
  },
  {
   "cell_type": "code",
   "execution_count": null,
   "metadata": {},
   "outputs": [],
   "source": [
    "params = {'max_depth' : 4,\n",
    "         'eta' : 0.005, \n",
    "         'objective' : 'binary:logistic',\n",
    "         'eval_metric' : 'logloss',\n",
    "         'early_stoppings' : 100 ,\n",
    "         'sub_sample' : 0.3,\n",
    "         'min_child_weight' : 5,\n",
    "         'num_boost_around' : 10}\n",
    "\n",
    "num_rounds = 1000"
   ]
  },
  {
   "cell_type": "code",
   "execution_count": null,
   "metadata": {
    "scrolled": true
   },
   "outputs": [],
   "source": [
    "wlist = [(dtrain, 'train'), (dtest,'eval')]\n",
    "xgb_model = xgb.train(params = params, dtrain=dtrain, num_boost_round=num_rounds, evals=wlist)"
   ]
  },
  {
   "cell_type": "code",
   "execution_count": null,
   "metadata": {
    "scrolled": true
   },
   "outputs": [],
   "source": [
    "pred_probs = xgb_model.predict(dtest)\n",
    "print('predict() 수행 결과값을 10개만 표시, 예측 확률 값으로 표시됨')\n",
    "print(np.round(pred_probs[:10], 3))\n",
    "\n",
    "# 예측 확률이 0.5보다 크면 1, 그렇지 않으면 0으로 예측값 결정해 리스트 객체인 preds에 저장\n",
    "preds = [ 1 if x > 0.5 else 0 for x in pred_probs]\n",
    "print('예측값 10개만 표시: ', preds[:10])"
   ]
  },
  {
   "cell_type": "code",
   "execution_count": null,
   "metadata": {},
   "outputs": [],
   "source": [
    "def get_clf_eval(y_test, y_pred):\n",
    "    confusion = confusion_matrix(y_test, y_pred)\n",
    "    accuracy = accuracy_score(y_test, y_pred)\n",
    "    precision = precision_score(y_test, y_pred)\n",
    "    recall = recall_score(y_test, y_pred)\n",
    "    F1 = f1_score(y_test, y_pred)\n",
    "    AUC = roc_auc_score(y_test, y_pred)\n",
    "    print('오차행렬:\\n', confusion)\n",
    "    print('\\n정확도: {:.4f}'.format(accuracy))\n",
    "    print('정밀도: {:.4f}'.format(precision))\n",
    "    print('재현율: {:.4f}'.format(recall))\n",
    "    print('F1: {:.4f}'.format(F1))\n",
    "    print('AUC: {:.4f}'.format(AUC))"
   ]
  },
  {
   "cell_type": "code",
   "execution_count": null,
   "metadata": {},
   "outputs": [],
   "source": [
    "get_clf_eval(y_test, preds)"
   ]
  },
  {
   "cell_type": "code",
   "execution_count": null,
   "metadata": {},
   "outputs": [],
   "source": [
    "fpr, tpr, thresholds = metrics.roc_curve(y_test, preds, pos_label=1)\n",
    "roc_auc = metrics.auc(fpr, tpr)\n",
    "plt.figure()\n",
    "plt.plot(fpr, tpr, label='ROC curve (area = %0.2f)' % roc_auc)\n",
    "plt.plot([0, 1], [0, 1], 'k--')\n",
    "plt.xlim([0.0, 1.0])\n",
    "plt.ylim([0.0, 1.05])\n",
    "plt.xlabel('False Positive Rate')\n",
    "plt.ylabel('True Positive Rate')\n",
    "plt.title('Receiver operating characteristic example')\n",
    "plt.legend(loc=\"lower right\")\n",
    "plt.show()"
   ]
  },
  {
   "cell_type": "markdown",
   "metadata": {},
   "source": [
    "### Random Forest"
   ]
  },
  {
   "cell_type": "code",
   "execution_count": null,
   "metadata": {},
   "outputs": [],
   "source": [
    "forest = RandomForestClassifier(n_estimators=100,random_state=0,\n",
    "                                max_depth = 5)\n",
    "forest.fit(X_train,y_train)"
   ]
  },
  {
   "cell_type": "code",
   "execution_count": null,
   "metadata": {
    "scrolled": true
   },
   "outputs": [],
   "source": [
    "print(\"훈련 세트 정확도 : {:.3f}\".format(forest.score(X_train,y_train)))\n",
    "print(\"테스트 세트 정확도 : {:.3f}\".format(forest.score(X_test,y_test)))"
   ]
  },
  {
   "cell_type": "code",
   "execution_count": null,
   "metadata": {
    "scrolled": true
   },
   "outputs": [],
   "source": [
    "pred_probs = forest.predict(X_test)\n",
    "print('predict() 수행 결과값을 10개만 표시, 예측 확률 값으로 표시됨')\n",
    "print(np.round(pred_probs[:10], 3))\n",
    "\n",
    "# 예측 확률이 0.5보다 크면 1, 그렇지 않으면 0으로 예측값 결정해 리스트 객체인 preds에 저장\n",
    "preds = [ 1 if x > 0.5 else 0 for x in pred_probs]\n",
    "print('예측값 10개만 표시: ', preds[:10])"
   ]
  },
  {
   "cell_type": "code",
   "execution_count": null,
   "metadata": {},
   "outputs": [],
   "source": [
    "pred_probs"
   ]
  },
  {
   "cell_type": "code",
   "execution_count": null,
   "metadata": {
    "scrolled": true
   },
   "outputs": [],
   "source": [
    "get_clf_eval(y_test, preds)"
   ]
  },
  {
   "cell_type": "code",
   "execution_count": null,
   "metadata": {},
   "outputs": [],
   "source": [
    "fpr, tpr, thresholds = metrics.roc_curve(y_test, preds, pos_label=1)\n",
    "roc_auc = metrics.auc(fpr, tpr)"
   ]
  },
  {
   "cell_type": "code",
   "execution_count": null,
   "metadata": {},
   "outputs": [],
   "source": [
    "plt.figure()\n",
    "plt.plot(fpr, tpr, label='ROC curve (area = %0.2f)' % roc_auc)\n",
    "plt.plot([0, 1], [0, 1], 'k--')\n",
    "plt.xlim([0.0, 1.0])\n",
    "plt.ylim([0.0, 1.05])\n",
    "plt.xlabel('False Positive Rate')\n",
    "plt.ylabel('True Positive Rate')\n",
    "plt.title('Receiver operating characteristic example')\n",
    "plt.legend(loc=\"lower right\")\n",
    "plt.show()"
   ]
  },
  {
   "cell_type": "code",
   "execution_count": null,
   "metadata": {},
   "outputs": [],
   "source": [
    "def plot_feature_importances_child(model):\n",
    "    n_features = X_train.shape[1]\n",
    "    plt.barh(range(n_features), model.feature_importances_)\n",
    "    plt.yticks(np.arange(n_features), X_train.columns)\n",
    "    plt.xlabel(\"특성 중요도\")\n",
    "    plt.ylabel(\"특성\")\n",
    "    plt.ylim(-1, n_features)\n"
   ]
  },
  {
   "cell_type": "code",
   "execution_count": null,
   "metadata": {},
   "outputs": [],
   "source": [
    "plot_feature_importances_child(forest)"
   ]
  },
  {
   "cell_type": "markdown",
   "metadata": {},
   "source": [
    "### ANN(못하게뜨뮤ㅠ)"
   ]
  },
  {
   "cell_type": "code",
   "execution_count": 115,
   "metadata": {},
   "outputs": [],
   "source": [
    "import tensorflow as tf\n",
    "from tensorflow import keras"
   ]
  },
  {
   "cell_type": "code",
   "execution_count": 116,
   "metadata": {
    "scrolled": true
   },
   "outputs": [
    {
     "data": {
      "text/plain": [
       "'2.0.1'"
      ]
     },
     "execution_count": 116,
     "metadata": {},
     "output_type": "execute_result"
    }
   ],
   "source": [
    "tf.__version__"
   ]
  },
  {
   "cell_type": "code",
   "execution_count": 117,
   "metadata": {},
   "outputs": [],
   "source": [
    "model = Sequential()"
   ]
  },
  {
   "cell_type": "code",
   "execution_count": 118,
   "metadata": {},
   "outputs": [],
   "source": [
    "model = Sequential([\n",
    "    Dense(256, input_shape=(79,)),\n",
    "    Activation('relu'),\n",
    "    Dropout(0.2),\n",
    "    Dense(64),\n",
    "    Activation('relu'),\n",
    "    Dropout(0.2),\n",
    "    Dense(16),\n",
    "    Activation('relu'),\n",
    "    Dense(1),\n",
    "    Activation('sigmoid')\n",
    "])"
   ]
  },
  {
   "cell_type": "code",
   "execution_count": 119,
   "metadata": {
    "scrolled": true
   },
   "outputs": [
    {
     "name": "stdout",
     "output_type": "stream",
     "text": [
      "Model: \"sequential_5\"\n",
      "_________________________________________________________________\n",
      "Layer (type)                 Output Shape              Param #   \n",
      "=================================================================\n",
      "dense_7 (Dense)              (None, 256)               20480     \n",
      "_________________________________________________________________\n",
      "activation_7 (Activation)    (None, 256)               0         \n",
      "_________________________________________________________________\n",
      "dropout_5 (Dropout)          (None, 256)               0         \n",
      "_________________________________________________________________\n",
      "dense_8 (Dense)              (None, 64)                16448     \n",
      "_________________________________________________________________\n",
      "activation_8 (Activation)    (None, 64)                0         \n",
      "_________________________________________________________________\n",
      "dropout_6 (Dropout)          (None, 64)                0         \n",
      "_________________________________________________________________\n",
      "dense_9 (Dense)              (None, 16)                1040      \n",
      "_________________________________________________________________\n",
      "activation_9 (Activation)    (None, 16)                0         \n",
      "_________________________________________________________________\n",
      "dense_10 (Dense)             (None, 1)                 17        \n",
      "_________________________________________________________________\n",
      "activation_10 (Activation)   (None, 1)                 0         \n",
      "=================================================================\n",
      "Total params: 37,985\n",
      "Trainable params: 37,985\n",
      "Non-trainable params: 0\n",
      "_________________________________________________________________\n"
     ]
    }
   ],
   "source": [
    "model.summary()"
   ]
  },
  {
   "cell_type": "code",
   "execution_count": 120,
   "metadata": {},
   "outputs": [],
   "source": [
    "model.compile(optimizer = 'adam', loss = 'binary_crossentropy', metrics = ['accuracy'])"
   ]
  },
  {
   "cell_type": "code",
   "execution_count": 129,
   "metadata": {},
   "outputs": [],
   "source": [
    "epoch = 20\n",
    "batch = 64\n",
    "validation_split = 0.2\n",
    "earlystopper = tf.keras.callbacks.EarlyStopping(monitor = 'val_loss', patience = 3, verbose = 1)"
   ]
  },
  {
   "cell_type": "code",
   "execution_count": 138,
   "metadata": {},
   "outputs": [
    {
     "name": "stdout",
     "output_type": "stream",
     "text": [
      "(85873, 79)\n",
      "(85873,)\n"
     ]
    }
   ],
   "source": [
    "print(X_train.shape)\n",
    "print(y_train.shape)"
   ]
  },
  {
   "cell_type": "code",
   "execution_count": 131,
   "metadata": {
    "scrolled": true
   },
   "outputs": [
    {
     "name": "stdout",
     "output_type": "stream",
     "text": [
      "Train on 68698 samples, validate on 17175 samples\n",
      "Epoch 1/20\n",
      "68698/68698 [==============================] - 2s 32us/step - loss: 0.0662 - accuracy: 0.9810 - val_loss: 0.1094 - val_accuracy: 0.9794\n",
      "Epoch 2/20\n",
      "68698/68698 [==============================] - 2s 31us/step - loss: 0.0654 - accuracy: 0.9814 - val_loss: 0.1106 - val_accuracy: 0.9794\n",
      "Epoch 3/20\n",
      "68698/68698 [==============================] - 2s 30us/step - loss: 0.0648 - accuracy: 0.9817 - val_loss: 0.1088 - val_accuracy: 0.9791\n",
      "Epoch 4/20\n",
      "68698/68698 [==============================] - 2s 29us/step - loss: 0.0641 - accuracy: 0.9816 - val_loss: 0.1116 - val_accuracy: 0.9793\n",
      "Epoch 5/20\n",
      "68698/68698 [==============================] - 2s 29us/step - loss: 0.0627 - accuracy: 0.9818 - val_loss: 0.1172 - val_accuracy: 0.9794\n",
      "Epoch 6/20\n",
      "68698/68698 [==============================] - 2s 33us/step - loss: 0.0634 - accuracy: 0.9817 - val_loss: 0.1186 - val_accuracy: 0.9792\n",
      "Epoch 00006: early stopping\n"
     ]
    }
   ],
   "source": [
    "history = model.fit(X_train, y_train, \n",
    "          epochs = epoch, \n",
    "          batch_size = batch, \n",
    "          validation_split = validation_split,\n",
    "          callbacks = [earlystopper] )"
   ]
  },
  {
   "cell_type": "code",
   "execution_count": 132,
   "metadata": {},
   "outputs": [
    {
     "name": "stdout",
     "output_type": "stream",
     "text": [
      "36803/36803 [==============================] - 0s 10us/step\n"
     ]
    }
   ],
   "source": [
    "score, acc = model.evaluate(X_test, y_test, batch_size = batch)"
   ]
  },
  {
   "cell_type": "code",
   "execution_count": 133,
   "metadata": {},
   "outputs": [
    {
     "name": "stdout",
     "output_type": "stream",
     "text": [
      "Test Score: 0.12856210606469312\n",
      "Test Accuracy: 0.9783169627189636\n"
     ]
    }
   ],
   "source": [
    "print('Test Score:' , score)\n",
    "print('Test Accuracy:' , acc)"
   ]
  },
  {
   "cell_type": "code",
   "execution_count": 134,
   "metadata": {},
   "outputs": [],
   "source": [
    "pred_probs = model.predict(X_test)"
   ]
  },
  {
   "cell_type": "code",
   "execution_count": 135,
   "metadata": {},
   "outputs": [
    {
     "data": {
      "image/png": "[encoded data removed]",
      "text/plain": [
       "<Figure size 432x288 with 1 Axes>"
      ]
     },
     "metadata": {
      "needs_background": "light"
     },
     "output_type": "display_data"
    }
   ],
   "source": [
    "fpr, tpr, thresholds = metrics.roc_curve(y_test, pred_probs, pos_label=1)\n",
    "roc_auc = metrics.auc(fpr, tpr)\n",
    "plt.figure()\n",
    "plt.plot(fpr, tpr, label='ROC curve (area = %0.2f)' % roc_auc)\n",
    "plt.plot([0, 1], [0, 1], 'k--')\n",
    "plt.xlim([0.0, 1.0])\n",
    "plt.ylim([0.0, 1.05])\n",
    "plt.xlabel('False Positive Rate')\n",
    "plt.ylabel('True Positive Rate')\n",
    "plt.title('Receiver operating characteristic example')\n",
    "plt.legend(loc=\"lower right\")\n",
    "plt.show()"
   ]
  },
  {
   "cell_type": "code",
   "execution_count": 136,
   "metadata": {},
   "outputs": [
    {
     "data": {
      "image/png": "[encoded data removed]",
      "text/plain": [
       "<Figure size 432x288 with 1 Axes>"
      ]
     },
     "metadata": {
      "needs_background": "light"
     },
     "output_type": "display_data"
    }
   ],
   "source": [
    "import matplotlib.pyplot as plt\n",
    "%matplotlib inline\n",
    "\n",
    "loss = history.history['loss']\n",
    "val_loss = history.history['val_loss']\n",
    "\n",
    "plt.figure()\n",
    "plt.plot(loss, 'ro-', label = 'train_loss')\n",
    "plt.plot(val_loss, 'bo-', label = 'val_loss')\n",
    "plt.ylabel('Binarycross Entrophy')\n",
    "plt.xlabel('Epoch')\n",
    "plt.title('Training and Validation Loss')\n",
    "plt.show()\n",
    "\n",
    "#overfitting이 되고 있다."
   ]
  },
  {
   "cell_type": "code",
   "execution_count": 156,
   "metadata": {},
   "outputs": [
    {
     "name": "stdout",
     "output_type": "stream",
     "text": [
      "predict() 수행 결과값을 10개만 표시, 예측 확률 값으로 표시됨\n",
      "[[0.   ]\n",
      " [1.   ]\n",
      " [0.016]\n",
      " [0.999]\n",
      " [0.02 ]\n",
      " [0.049]\n",
      " [1.   ]\n",
      " [0.002]\n",
      " [0.02 ]\n",
      " [0.001]]\n",
      "예측값 10개만 표시:  [0, 1, 0, 1, 0, 0, 1, 0, 0, 0]\n"
     ]
    }
   ],
   "source": [
    "pred_probs = model.predict(X_test)\n",
    "print('predict() 수행 결과값을 10개만 표시, 예측 확률 값으로 표시됨')\n",
    "print(np.round(pred_probs[:10], 3))\n",
    "\n",
    "# 예측 확률이 0.5보다 크면 1, 그렇지 않으면 0으로 예측값 결정해 리스트 객체인 preds에 저장\n",
    "preds = [ 1 if x > 0.5 else 0 for x in pred_probs]\n",
    "print('예측값 10개만 표시: ', preds[:10])"
   ]
  },
  {
   "cell_type": "code",
   "execution_count": 157,
   "metadata": {},
   "outputs": [
    {
     "name": "stdout",
     "output_type": "stream",
     "text": [
      "오차행렬:\n",
      " [[32306   120]\n",
      " [  678  3699]]\n",
      "\n",
      "정확도: 0.9783\n",
      "정밀도: 0.9686\n",
      "재현율: 0.8451\n",
      "F1: 0.9026\n",
      "AUC: 0.9207\n"
     ]
    }
   ],
   "source": [
    "get_clf_eval(y_test, preds)"
   ]
  },
  {
   "cell_type": "code",
   "execution_count": 158,
   "metadata": {},
   "outputs": [],
   "source": [
    "fpr, tpr, thresholds = metrics.roc_curve(y_test, preds, pos_label=1)\n",
    "roc_auc = metrics.auc(fpr, tpr)"
   ]
  },
  {
   "cell_type": "code",
   "execution_count": 159,
   "metadata": {},
   "outputs": [
    {
     "data": {
      "image/png": "[encoded data removed]",
      "text/plain": [
       "<Figure size 432x288 with 1 Axes>"
      ]
     },
     "metadata": {
      "needs_background": "light"
     },
     "output_type": "display_data"
    }
   ],
   "source": [
    "plt.figure()\n",
    "plt.plot(fpr, tpr, label='ROC curve (area = %0.2f)' % roc_auc)\n",
    "plt.plot([0, 1], [0, 1], 'k--')\n",
    "plt.xlim([0.0, 1.0])\n",
    "plt.ylim([0.0, 1.05])\n",
    "plt.xlabel('False Positive Rate')\n",
    "plt.ylabel('True Positive Rate')\n",
    "plt.title('Receiver operating characteristic example')\n",
    "plt.legend(loc=\"lower right\")\n",
    "plt.show()"
   ]
  },
  {
   "cell_type": "code",
   "execution_count": null,
   "metadata": {},
   "outputs": [],
   "source": []
  },
  {
   "cell_type": "code",
   "execution_count": null,
   "metadata": {},
   "outputs": [],
   "source": []
  }
 ],
 "metadata": {
  "kernelspec": {
   "display_name": "Python 3",
   "language": "python",
   "name": "python3"
  },
  "language_info": {
   "codemirror_mode": {
    "name": "ipython",
    "version": 3
   },
   "file_extension": ".py",
   "mimetype": "text/x-python",
   "name": "python",
   "nbconvert_exporter": "python",
   "pygments_lexer": "ipython3",
   "version": "3.7.4"
  }
 },
 "nbformat": 4,
 "nbformat_minor": 2
}
