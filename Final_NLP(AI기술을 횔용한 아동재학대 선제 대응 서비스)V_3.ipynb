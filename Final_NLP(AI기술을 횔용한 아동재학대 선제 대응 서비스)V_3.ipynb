{
 "cells": [
  {
   "cell_type": "code",
   "execution_count": 1,
   "metadata": {},
   "outputs": [
    {
     "name": "stderr",
     "output_type": "stream",
     "text": [
      "Using TensorFlow backend.\n"
     ]
    }
   ],
   "source": [
    "import re\n",
    "import nltk\n",
    "\n",
    "import pandas as pd\n",
    "import numpy as np\n",
    "\n",
    "from bs4 import BeautifulSoup\n",
    "from nltk.corpus import stopwords\n",
    "from nltk.stem.porter import PorterStemmer\n",
    "english_stemmer=nltk.stem.SnowballStemmer('english')\n",
    "\n",
    "from sklearn.feature_selection.univariate_selection import SelectKBest, chi2, f_classif\n",
    "from sklearn.model_selection import train_test_split\n",
    "from sklearn.feature_extraction.text import TfidfVectorizer\n",
    "from sklearn.linear_model import SGDClassifier, SGDRegressor\n",
    "from sklearn.ensemble import RandomForestClassifier, GradientBoostingClassifier\n",
    "from sklearn.naive_bayes import MultinomialNB\n",
    "from sklearn.metrics import accuracy_score, classification_report, confusion_matrix\n",
    "import random\n",
    "import itertools\n",
    "\n",
    "import sys\n",
    "import os\n",
    "import argparse\n",
    "from sklearn.pipeline import Pipeline\n",
    "from scipy.sparse import csr_matrix\n",
    "from sklearn.feature_extraction.text import CountVectorizer\n",
    "import six\n",
    "import tensorflow\n",
    "from abc import ABCMeta\n",
    "from scipy import sparse\n",
    "from scipy.sparse import issparse\n",
    "from sklearn.base import BaseEstimator, ClassifierMixin\n",
    "from sklearn.utils import check_X_y, check_array\n",
    "from sklearn.utils.extmath import safe_sparse_dot\n",
    "from sklearn.preprocessing import normalize, binarize, LabelBinarizer\n",
    "from sklearn.svm import LinearSVC\n",
    "\n",
    "from keras.preprocessing import sequence\n",
    "from keras.utils import np_utils\n",
    "from keras.models import Sequential\n",
    "from keras.layers.core import Dense, Dropout, Activation, Lambda\n",
    "from keras.layers.embeddings import Embedding\n",
    "from keras.layers.recurrent import LSTM, SimpleRNN, GRU\n",
    "from keras.preprocessing.text import Tokenizer\n",
    "from collections import defaultdict\n",
    "from keras.layers.convolutional import Convolution1D\n",
    "from keras import backend as K\n",
    "\n",
    "import seaborn as sns\n",
    "import matplotlib.pyplot as plt\n",
    "from matplotlib import cm\n",
    "%matplotlib inline\n",
    "plt.style.use('ggplot')\n",
    "import sklearn.metrics as metrics"
   ]
  },
  {
   "cell_type": "code",
   "execution_count": 11,
   "metadata": {},
   "outputs": [],
   "source": [
    "from sklearn.datasets import load_boston\n",
    "import xgboost\n",
    "import matplotlib.pyplot as plt\n",
    "from sklearn.metrics import explained_variance_score\n",
    "from xgboost import plot_importance\n",
    "from xgboost import XGBClassifier\n",
    "from sklearn.pipeline import Pipeline\n",
    "from sklearn.feature_extraction.text import CountVectorizer\n",
    "from sklearn.linear_model import SGDClassifier\n",
    "from sklearn.svm import SVC\n",
    "from sklearn.naive_bayes import MultinomialNB\n",
    "import numpy as np\n",
    "from collections import Counter\n",
    "from tensorflow.keras.preprocessing.text import Tokenizer \n",
    "from tensorflow.keras.layers import Embedding, Dense, LSTM \n",
    "from tensorflow.keras.models import Sequential \n",
    "from tensorflow.keras.preprocessing.sequence import pad_sequences\n",
    "import rhinoMorph\n",
    "\n",
    "from matplotlib import rc\n",
    "rc('font', family='AppleGothic')\n",
    "plt.rcParams['axes.unicode_minus'] = False"
   ]
  },
  {
   "cell_type": "code",
   "execution_count": 15,
   "metadata": {},
   "outputs": [],
   "source": [
    "java_home = \"C:\\Program Files\\Java\\jdk-14.0.2\" "
   ]
  },
  {
   "cell_type": "code",
   "execution_count": 16,
   "metadata": {},
   "outputs": [
    {
     "name": "stdout",
     "output_type": "stream",
     "text": [
      "filepath:  C:\\Users\\MY\\Anaconda3\\lib\\site-packages\n",
      "classpath:  C:\\Users\\MY\\Anaconda3\\lib\\site-packages\\rhinoMorph/lib/rhino.jar\n"
     ]
    },
    {
     "ename": "JVMNotFoundException",
     "evalue": "No JVM shared library file (jvm.dll) found. Try setting up the JAVA_HOME environment variable properly.",
     "output_type": "error",
     "traceback": [
      "\u001b[1;31m---------------------------------------------------------------------------\u001b[0m",
      "\u001b[1;31mJVMNotFoundException\u001b[0m                      Traceback (most recent call last)",
      "\u001b[1;32m<ipython-input-16-f137b875d704>\u001b[0m in \u001b[0;36m<module>\u001b[1;34m\u001b[0m\n\u001b[1;32m----> 1\u001b[1;33m \u001b[0mrn\u001b[0m \u001b[1;33m=\u001b[0m \u001b[0mrhinoMorph\u001b[0m\u001b[1;33m.\u001b[0m\u001b[0mstartRhino\u001b[0m\u001b[1;33m(\u001b[0m\u001b[1;33m)\u001b[0m\u001b[1;33m\u001b[0m\u001b[1;33m\u001b[0m\u001b[0m\n\u001b[0m",
      "\u001b[1;32m~\\Anaconda3\\lib\\site-packages\\rhinoMorph.py\u001b[0m in \u001b[0;36mstartRhino\u001b[1;34m()\u001b[0m\n\u001b[0;32m     13\u001b[0m         \u001b[0mprint\u001b[0m\u001b[1;33m(\u001b[0m\u001b[1;34m\"JVM is already started~\"\u001b[0m\u001b[1;33m)\u001b[0m\u001b[1;33m\u001b[0m\u001b[1;33m\u001b[0m\u001b[0m\n\u001b[0;32m     14\u001b[0m     \u001b[1;32melse\u001b[0m\u001b[1;33m:\u001b[0m\u001b[1;33m\u001b[0m\u001b[1;33m\u001b[0m\u001b[0m\n\u001b[1;32m---> 15\u001b[1;33m         \u001b[0mjpype\u001b[0m\u001b[1;33m.\u001b[0m\u001b[0mstartJVM\u001b[0m\u001b[1;33m(\u001b[0m\u001b[0mjpype\u001b[0m\u001b[1;33m.\u001b[0m\u001b[0mgetDefaultJVMPath\u001b[0m\u001b[1;33m(\u001b[0m\u001b[1;33m)\u001b[0m\u001b[1;33m,\u001b[0m \u001b[1;34m\"-Djava.class.path=%s\"\u001b[0m \u001b[1;33m%\u001b[0m \u001b[0mclasspath\u001b[0m\u001b[1;33m,\u001b[0m \u001b[0mconvertStrings\u001b[0m\u001b[1;33m=\u001b[0m\u001b[1;32mTrue\u001b[0m\u001b[1;33m)\u001b[0m\u001b[1;33m\u001b[0m\u001b[1;33m\u001b[0m\u001b[0m\n\u001b[0m\u001b[0;32m     16\u001b[0m \u001b[1;33m\u001b[0m\u001b[0m\n\u001b[0;32m     17\u001b[0m     \u001b[1;31m# rhino = jpype.JPackage('rhino')       # get the package\u001b[0m\u001b[1;33m\u001b[0m\u001b[1;33m\u001b[0m\u001b[1;33m\u001b[0m\u001b[0m\n",
      "\u001b[1;32m~\\Anaconda3\\lib\\site-packages\\jpype\\_jvmfinder.py\u001b[0m in \u001b[0;36mgetDefaultJVMPath\u001b[1;34m()\u001b[0m\n\u001b[0;32m     72\u001b[0m     \u001b[1;32melse\u001b[0m\u001b[1;33m:\u001b[0m\u001b[1;33m\u001b[0m\u001b[1;33m\u001b[0m\u001b[0m\n\u001b[0;32m     73\u001b[0m         \u001b[0mfinder\u001b[0m \u001b[1;33m=\u001b[0m \u001b[0mLinuxJVMFinder\u001b[0m\u001b[1;33m(\u001b[0m\u001b[1;33m)\u001b[0m\u001b[1;33m\u001b[0m\u001b[1;33m\u001b[0m\u001b[0m\n\u001b[1;32m---> 74\u001b[1;33m     \u001b[1;32mreturn\u001b[0m \u001b[0mfinder\u001b[0m\u001b[1;33m.\u001b[0m\u001b[0mget_jvm_path\u001b[0m\u001b[1;33m(\u001b[0m\u001b[1;33m)\u001b[0m\u001b[1;33m\u001b[0m\u001b[1;33m\u001b[0m\u001b[0m\n\u001b[0m\u001b[0;32m     75\u001b[0m \u001b[1;33m\u001b[0m\u001b[0m\n\u001b[0;32m     76\u001b[0m \u001b[1;33m\u001b[0m\u001b[0m\n",
      "\u001b[1;32m~\\Anaconda3\\lib\\site-packages\\jpype\\_jvmfinder.py\u001b[0m in \u001b[0;36mget_jvm_path\u001b[1;34m(self)\u001b[0m\n\u001b[0;32m    209\u001b[0m                                    \u001b[1;34m\"found. Try setting up the JAVA_HOME \"\u001b[0m\u001b[1;33m\u001b[0m\u001b[1;33m\u001b[0m\u001b[0m\n\u001b[0;32m    210\u001b[0m                                    \u001b[1;34m\"environment variable properly.\"\u001b[0m\u001b[1;33m\u001b[0m\u001b[1;33m\u001b[0m\u001b[0m\n\u001b[1;32m--> 211\u001b[1;33m                                    .format(self._libfile))\n\u001b[0m\u001b[0;32m    212\u001b[0m \u001b[1;33m\u001b[0m\u001b[0m\n\u001b[0;32m    213\u001b[0m     \u001b[1;32mdef\u001b[0m \u001b[0m_get_from_java_home\u001b[0m\u001b[1;33m(\u001b[0m\u001b[0mself\u001b[0m\u001b[1;33m)\u001b[0m\u001b[1;33m:\u001b[0m\u001b[1;33m\u001b[0m\u001b[1;33m\u001b[0m\u001b[0m\n",
      "\u001b[1;31mJVMNotFoundException\u001b[0m: No JVM shared library file (jvm.dll) found. Try setting up the JAVA_HOME environment variable properly."
     ]
    }
   ],
   "source": [
    "rn = rhinoMorph.startRhino()"
   ]
  },
  {
   "cell_type": "code",
   "execution_count": 4,
   "metadata": {
    "scrolled": true
   },
   "outputs": [
    {
     "data": {
      "text/html": [
       "<div>\n",
       "<style scoped>\n",
       "    .dataframe tbody tr th:only-of-type {\n",
       "        vertical-align: middle;\n",
       "    }\n",
       "\n",
       "    .dataframe tbody tr th {\n",
       "        vertical-align: top;\n",
       "    }\n",
       "\n",
       "    .dataframe thead th {\n",
       "        text-align: right;\n",
       "    }\n",
       "</style>\n",
       "<table border=\"1\" class=\"dataframe\">\n",
       "  <thead>\n",
       "    <tr style=\"text-align: right;\">\n",
       "      <th></th>\n",
       "      <th>번호</th>\n",
       "      <th>내용</th>\n",
       "      <th>Label</th>\n",
       "    </tr>\n",
       "  </thead>\n",
       "  <tbody>\n",
       "    <tr>\n",
       "      <td>0</td>\n",
       "      <td>1</td>\n",
       "      <td>\\n\\t\\t\\t\\t\\t\\t저는 고등학생 여자입니다7살때부터 가정폭력을 당해왔는데요엄...</td>\n",
       "      <td>1</td>\n",
       "    </tr>\n",
       "    <tr>\n",
       "      <td>1</td>\n",
       "      <td>1</td>\n",
       "      <td>\\n\\t\\t\\t\\t\\t\\t20대 성인 여성입니다. 졸업을 목전에 두고 있는데 아빠의...</td>\n",
       "      <td>1</td>\n",
       "    </tr>\n",
       "    <tr>\n",
       "      <td>2</td>\n",
       "      <td>1</td>\n",
       "      <td>\\n\\t\\t\\t\\t\\t\\t옛날부터 엄마가 아빠라는 사람한테 가정폭력을 당했습니다 여...</td>\n",
       "      <td>1</td>\n",
       "    </tr>\n",
       "    <tr>\n",
       "      <td>3</td>\n",
       "      <td>1</td>\n",
       "      <td>\\n1년이라는 짧지 않은 시간 동안 결혼생활이 지옥같았고 그걸 마무리하려고 합니다남...</td>\n",
       "      <td>1</td>\n",
       "    </tr>\n",
       "    <tr>\n",
       "      <td>4</td>\n",
       "      <td>1</td>\n",
       "      <td>\\n\\t\\t\\t\\t\\t\\t엄마가 돌돌이? 찍찍이로 방 청소 언제 할거냐 여쭤보셔서 ...</td>\n",
       "      <td>1</td>\n",
       "    </tr>\n",
       "    <tr>\n",
       "      <td>...</td>\n",
       "      <td>...</td>\n",
       "      <td>...</td>\n",
       "      <td>...</td>\n",
       "    </tr>\n",
       "    <tr>\n",
       "      <td>10595</td>\n",
       "      <td>1</td>\n",
       "      <td>\\n\\t\\t\\t\\t\\t\\t안녕하세요 4학년 여자입니다 저희 엄마때문에 질문을 하는데...</td>\n",
       "      <td>3</td>\n",
       "    </tr>\n",
       "    <tr>\n",
       "      <td>10596</td>\n",
       "      <td>1</td>\n",
       "      <td>\\n보통 엄마들은 막 과외도 부쳐주고 ?막 그러자나요 ??그런데 저희 엄마는요 ?성...</td>\n",
       "      <td>3</td>\n",
       "    </tr>\n",
       "    <tr>\n",
       "      <td>10597</td>\n",
       "      <td>1</td>\n",
       "      <td>\\n?현재 일반계 고등학교 1학년 학생이고요,엄마는 직장에 다니십니다. 엄마와 학교...</td>\n",
       "      <td>3</td>\n",
       "    </tr>\n",
       "    <tr>\n",
       "      <td>10598</td>\n",
       "      <td>1</td>\n",
       "      <td>\\n털어넣고 말할게요?우리 엄마가 화투?를 해요?근데 저번에 경찰에 들켰는데 발뺌하...</td>\n",
       "      <td>3</td>\n",
       "    </tr>\n",
       "    <tr>\n",
       "      <td>10599</td>\n",
       "      <td>1</td>\n",
       "      <td>\\n안녕하세요.저는 고2 여학생입니다.본론부터 말씀 드릴게요.. 요즘 부쩍 엄마가 ...</td>\n",
       "      <td>3</td>\n",
       "    </tr>\n",
       "  </tbody>\n",
       "</table>\n",
       "<p>10600 rows × 3 columns</p>\n",
       "</div>"
      ],
      "text/plain": [
       "       번호                                                 내용  Label\n",
       "0       1  \\n\\t\\t\\t\\t\\t\\t저는 고등학생 여자입니다7살때부터 가정폭력을 당해왔는데요엄...      1\n",
       "1       1  \\n\\t\\t\\t\\t\\t\\t20대 성인 여성입니다. 졸업을 목전에 두고 있는데 아빠의...      1\n",
       "2       1  \\n\\t\\t\\t\\t\\t\\t옛날부터 엄마가 아빠라는 사람한테 가정폭력을 당했습니다 여...      1\n",
       "3       1  \\n1년이라는 짧지 않은 시간 동안 결혼생활이 지옥같았고 그걸 마무리하려고 합니다남...      1\n",
       "4       1  \\n\\t\\t\\t\\t\\t\\t엄마가 돌돌이? 찍찍이로 방 청소 언제 할거냐 여쭤보셔서 ...      1\n",
       "...    ..                                                ...    ...\n",
       "10595   1  \\n\\t\\t\\t\\t\\t\\t안녕하세요 4학년 여자입니다 저희 엄마때문에 질문을 하는데...      3\n",
       "10596   1  \\n보통 엄마들은 막 과외도 부쳐주고 ?막 그러자나요 ??그런데 저희 엄마는요 ?성...      3\n",
       "10597   1  \\n?현재 일반계 고등학교 1학년 학생이고요,엄마는 직장에 다니십니다. 엄마와 학교...      3\n",
       "10598   1  \\n털어넣고 말할게요?우리 엄마가 화투?를 해요?근데 저번에 경찰에 들켰는데 발뺌하...      3\n",
       "10599   1  \\n안녕하세요.저는 고2 여학생입니다.본론부터 말씀 드릴게요.. 요즘 부쩍 엄마가 ...      3\n",
       "\n",
       "[10600 rows x 3 columns]"
      ]
     },
     "execution_count": 4,
     "metadata": {},
     "output_type": "execute_result"
    }
   ],
   "source": [
    "df1 = pd.read_csv('./학대별 라벨_1.csv', encoding = 'cp949')\n",
    "df1\n",
    "#sample :랜덤 샐플 추출 \n",
    "# 1 : 정석학대\n",
    "# 2 : 신체학대\n",
    "# 3 : 방임\n",
    "# 4 : 성학대 "
   ]
  },
  {
   "cell_type": "code",
   "execution_count": 5,
   "metadata": {},
   "outputs": [],
   "source": [
    "df1 = df1.drop(['번호'], axis = 1)"
   ]
  },
  {
   "cell_type": "code",
   "execution_count": 6,
   "metadata": {},
   "outputs": [],
   "source": [
    "list1 = df1.values.tolist()"
   ]
  },
  {
   "cell_type": "code",
   "execution_count": 7,
   "metadata": {
    "scrolled": true
   },
   "outputs": [
    {
     "data": {
      "text/plain": [
       "1    3853\n",
       "4    3071\n",
       "2    2805\n",
       "3     871\n",
       "Name: Label, dtype: int64"
      ]
     },
     "execution_count": 7,
     "metadata": {},
     "output_type": "execute_result"
    }
   ],
   "source": [
    "df1['Label'].value_counts()"
   ]
  },
  {
   "cell_type": "code",
   "execution_count": 8,
   "metadata": {},
   "outputs": [],
   "source": [
    "def text_cleaning(doc):\n",
    "    \n",
    "    doc = re.sub(\"[^ㄱ-ㅎㅏ-ㅣ가-힣 ]\", \"\", str(doc))\n",
    "        \n",
    "    return doc"
   ]
  },
  {
   "cell_type": "code",
   "execution_count": 9,
   "metadata": {},
   "outputs": [],
   "source": [
    "def define_stopwords(path):\n",
    "    \n",
    "    SW = set() \n",
    "    #집합형태로 만들어줘야 중복을 제외하고 출력해줌\n",
    "    #불용어들을 추가할려면 SW.add()이렇게 넣어주면 됨\n",
    "    \n",
    "    with open(path, encoding = 'cp949') as f:\n",
    "        for word in f:\n",
    "            SW.add(word)\n",
    "            \n",
    "    return SW\n",
    "\n",
    "#with open을 통해 파일을 열고 해당 파일에 있는 단어들을 SW에 넣어줌 "
   ]
  },
  {
   "cell_type": "code",
   "execution_count": 10,
   "metadata": {},
   "outputs": [],
   "source": [
    "def text_tokenizing(doc):\n",
    "    return [word for word in rhinoMorph.onlyMorph_list(rn,doc, pos = ['NNG', 'NNP','NP', 'VV', 'VA', 'XR', 'IC', 'MM', 'MAG', 'MAJ'], eomi = False) if word not in a and len(word) > 1]"
   ]
  },
  {
   "cell_type": "code",
   "execution_count": 11,
   "metadata": {},
   "outputs": [],
   "source": [
    "SW = define_stopwords('./stopwords-ko.txt')"
   ]
  },
  {
   "cell_type": "code",
   "execution_count": 12,
   "metadata": {},
   "outputs": [],
   "source": [
    "a = [] \n",
    "for i in SW:\n",
    "    a.append(i.replace('\\n', ''))"
   ]
  },
  {
   "cell_type": "code",
   "execution_count": 13,
   "metadata": {
    "scrolled": true
   },
   "outputs": [
    {
     "data": {
      "text/plain": [
       "['아이고',\n",
       " '삐걱',\n",
       " '어느',\n",
       " '비교적',\n",
       " '양자',\n",
       " '야',\n",
       " '나오',\n",
       " '비길수 없다',\n",
       " '막론하고',\n",
       " '이리하여',\n",
       " '공동으로',\n",
       " '습니다',\n",
       " '하는것이 낫다',\n",
       " '어찌하여',\n",
       " '에게',\n",
       " '남들',\n",
       " '보다더',\n",
       " '하는바',\n",
       " '봐라',\n",
       " '비걱거리다',\n",
       " '할망정',\n",
       " '하구나',\n",
       " '우리들',\n",
       " '로써',\n",
       " '따라',\n",
       " '무엇때문에',\n",
       " '이렇게말하자면',\n",
       " '그러',\n",
       " '그렇지 않다면',\n",
       " '또',\n",
       " '바꾸어말하면',\n",
       " '윙윙',\n",
       " '비추어 보아',\n",
       " '자신',\n",
       " '요컨대',\n",
       " '허허',\n",
       " '할만하다',\n",
       " '동안',\n",
       " '그런 까닭에',\n",
       " '그런즉',\n",
       " '총적으로',\n",
       " '아이',\n",
       " '그중에서',\n",
       " '의',\n",
       " '예를 들자면',\n",
       " '예',\n",
       " '대하여',\n",
       " '할 줄 안다',\n",
       " '비하면',\n",
       " '바꾸어말하자면',\n",
       " '그위에',\n",
       " '뒤따라',\n",
       " '연이서',\n",
       " '밖에 안된다',\n",
       " '할지라도',\n",
       " '곧',\n",
       " '어떤것들',\n",
       " '자기집',\n",
       " '관한',\n",
       " '몇',\n",
       " '전자',\n",
       " '형식으로 쓰여',\n",
       " '이렇게되면',\n",
       " '각종',\n",
       " '이 때문에',\n",
       " '그리하여',\n",
       " '보드득',\n",
       " '에 대해',\n",
       " '우에 종합한것과같이',\n",
       " '쾅쾅',\n",
       " '헉',\n",
       " '하곤하였다',\n",
       " '그렇게',\n",
       " '그런데',\n",
       " '과연',\n",
       " '반드시',\n",
       " '하든지',\n",
       " '총적으로 보면',\n",
       " '하도록하다',\n",
       " '주저하지 않고',\n",
       " '월',\n",
       " '향하다',\n",
       " '두번째로',\n",
       " '하물며',\n",
       " '된이상',\n",
       " '여차',\n",
       " '어떤',\n",
       " '하지 않는다면',\n",
       " '만이 아니다',\n",
       " '다만',\n",
       " '하하',\n",
       " '한항목',\n",
       " '오히려',\n",
       " '알 수 있다',\n",
       " '요만한 것',\n",
       " '타인',\n",
       " '어찌하든지',\n",
       " '하도록시키다',\n",
       " '전후',\n",
       " '하려고하다',\n",
       " '조차',\n",
       " '않기 위해서',\n",
       " '이 되다',\n",
       " '에 가서',\n",
       " '하여금',\n",
       " '주룩주룩',\n",
       " '된바에야',\n",
       " '소인',\n",
       " '지말고',\n",
       " '불구하고',\n",
       " '흥',\n",
       " '이와같다면',\n",
       " '사',\n",
       " '설사',\n",
       " '관련이 있다',\n",
       " '해도좋다',\n",
       " '그래서',\n",
       " '틈타',\n",
       " '잠깐',\n",
       " '그에 따르는',\n",
       " '만 못하다하기보다는',\n",
       " '즉시',\n",
       " '각',\n",
       " '너무',\n",
       " '것들',\n",
       " '의해되다',\n",
       " '너',\n",
       " '엄마',\n",
       " '저기',\n",
       " '습니까',\n",
       " '쳇',\n",
       " '너희',\n",
       " '그렇게 함으로써',\n",
       " '앞에서',\n",
       " '까악',\n",
       " '오',\n",
       " '하더라도',\n",
       " '하자마자',\n",
       " '이천팔',\n",
       " '지든지',\n",
       " '엉엉',\n",
       " '만은 아니다',\n",
       " '동시에',\n",
       " '기대여',\n",
       " '아니나다를가',\n",
       " '뿐이다',\n",
       " '관계가 있다',\n",
       " '같다',\n",
       " '라 해도',\n",
       " '더욱이는',\n",
       " '이러한',\n",
       " '일때',\n",
       " '이와 같은',\n",
       " '앞의것',\n",
       " '그러니까',\n",
       " '쿵',\n",
       " '다섯',\n",
       " '때',\n",
       " 'ㅡ',\n",
       " 'ㅎㅎ',\n",
       " '까지',\n",
       " '이유만으로',\n",
       " '결과에 이르다',\n",
       " '에',\n",
       " '같이',\n",
       " '하고있었다',\n",
       " '좀',\n",
       " '기점으로',\n",
       " '다음',\n",
       " '함께',\n",
       " '졸졸',\n",
       " '이 외에',\n",
       " '향해서',\n",
       " '아래윗',\n",
       " '아울러',\n",
       " '근거하여',\n",
       " '어디',\n",
       " '영어',\n",
       " '뚝뚝',\n",
       " '혼자',\n",
       " '게다가',\n",
       " '그렇지',\n",
       " '도달하다',\n",
       " '댕그',\n",
       " '가령',\n",
       " '딱',\n",
       " '으로',\n",
       " '제외하고',\n",
       " '와 같은 사람들',\n",
       " 'ㅠㅠㅠ',\n",
       " '둥둥',\n",
       " '퉤',\n",
       " '등',\n",
       " '이외에도',\n",
       " '어떤것',\n",
       " '아',\n",
       " '참',\n",
       " '여기',\n",
       " '비로소',\n",
       " '하',\n",
       " '그저',\n",
       " '지만',\n",
       " '한켠으로는',\n",
       " '어느쪽',\n",
       " '어찌됏어',\n",
       " '물론',\n",
       " '이천구',\n",
       " '와르르',\n",
       " '것과 같이',\n",
       " '바꾸어서 말하면',\n",
       " '다음에',\n",
       " '관하여',\n",
       " '다시말하면',\n",
       " '나머지는',\n",
       " '얼마간',\n",
       " '이와 반대로',\n",
       " '어쩔수 없다',\n",
       " '뿐만 아니라',\n",
       " '넷',\n",
       " '예하면',\n",
       " '하는 김에',\n",
       " '에 달려 있다',\n",
       " '해요',\n",
       " '다수',\n",
       " '무렵',\n",
       " '그치지 않다',\n",
       " '일지라도',\n",
       " '부류의 사람들',\n",
       " '이와 같다',\n",
       " '헐떡헐떡',\n",
       " '겨우',\n",
       " '마저도',\n",
       " '하면된다',\n",
       " '일곱',\n",
       " '했어요',\n",
       " '다음으로',\n",
       " '그렇지않으면',\n",
       " '무슨',\n",
       " '그렇지 않으면',\n",
       " '그만이다',\n",
       " '혹시',\n",
       " '탕탕',\n",
       " '아니면',\n",
       " '얼마 안 되는 것',\n",
       " '이 정도의',\n",
       " '어떻하',\n",
       " '이젠',\n",
       " '그들',\n",
       " '연관되다',\n",
       " '그럼에도 불구하고',\n",
       " '당신',\n",
       " '오늘',\n",
       " '이봐',\n",
       " '대해서',\n",
       " '더라도',\n",
       " '누가 알겠는가',\n",
       " '매번',\n",
       " '',\n",
       " '내공',\n",
       " '이 밖에',\n",
       " '위에서 서술한바와같이',\n",
       " '당장',\n",
       " '하기에',\n",
       " '끙끙',\n",
       " '자마자',\n",
       " '마음대로',\n",
       " '할수있어',\n",
       " '이지만',\n",
       " '한다면 몰라도',\n",
       " '개의치않고',\n",
       " '줄은 몰랏다',\n",
       " '입각하여',\n",
       " '그때',\n",
       " '할 힘이 있다',\n",
       " '어기여차',\n",
       " '한데',\n",
       " '따위',\n",
       " '그래도',\n",
       " '할지언정',\n",
       " '흐흐',\n",
       " '설령',\n",
       " '왜',\n",
       " '다소',\n",
       " '가',\n",
       " '이러이러하다',\n",
       " '그러한즉',\n",
       " '우리',\n",
       " '불문하고',\n",
       " '이만큼',\n",
       " '이상',\n",
       " '그러므로',\n",
       " '까지 미치다',\n",
       " '어떻게',\n",
       " '이런',\n",
       " '에서',\n",
       " '삼',\n",
       " '첫번째로',\n",
       " '어느것',\n",
       " '마치',\n",
       " '오르다',\n",
       " 'ㅠㅠ',\n",
       " '이래',\n",
       " '오호',\n",
       " '하지 않도록',\n",
       " '허걱',\n",
       " '상대적으로 말하자면',\n",
       " '여부',\n",
       " '어느곳',\n",
       " '중의하나',\n",
       " '고려하면',\n",
       " '그',\n",
       " '육',\n",
       " '인젠',\n",
       " '만큼어찌됏든',\n",
       " '어떻해',\n",
       " '그럼',\n",
       " '그러니',\n",
       " '하도다',\n",
       " '의거하여',\n",
       " '정도에 이르다',\n",
       " '하나',\n",
       " '까닭으로',\n",
       " '얼마',\n",
       " '대해 말하자면',\n",
       " '무엇',\n",
       " '뒤이어',\n",
       " '대하면',\n",
       " '펄렁',\n",
       " '시키다',\n",
       " '할수있다',\n",
       " '칠',\n",
       " '일단',\n",
       " '남짓',\n",
       " '이',\n",
       " '총적으로 말하면',\n",
       " '근데',\n",
       " '타다',\n",
       " '단지',\n",
       " '여',\n",
       " '가지',\n",
       " '고로',\n",
       " '로 인하여',\n",
       " '저희',\n",
       " '콸콸',\n",
       " '든간에',\n",
       " '많이',\n",
       " '과',\n",
       " '바꾸어서 한다면',\n",
       " '여러분',\n",
       " '어때',\n",
       " '크리스마스',\n",
       " '겸사겸사',\n",
       " '존나',\n",
       " '실로',\n",
       " '오로지',\n",
       " '의해',\n",
       " '관계없이',\n",
       " '더군다나',\n",
       " '좍좍',\n",
       " '아이야',\n",
       " '저쪽',\n",
       " '이로 인하여',\n",
       " '따지지 않다',\n",
       " '줄은모른다',\n",
       " '즉',\n",
       " 'ㅠ',\n",
       " '때가 되어',\n",
       " '반대로 말하자면',\n",
       " '혹은',\n",
       " '쪽으로',\n",
       " '여덟',\n",
       " '그렇지만',\n",
       " '이르기까지',\n",
       " '예컨대',\n",
       " '하지만',\n",
       " '할뿐',\n",
       " 'ㅋ',\n",
       " '갖고말하자면',\n",
       " '할 따름이다',\n",
       " '을',\n",
       " '및',\n",
       " '설마',\n",
       " '아빠',\n",
       " '말할것도 없고',\n",
       " '응당',\n",
       " '어느해',\n",
       " '인 듯하다',\n",
       " '하면서',\n",
       " '할 지경이다',\n",
       " '그리고',\n",
       " '어찌',\n",
       " '하는것만 못하다',\n",
       " '령',\n",
       " '에 한하다',\n",
       " '운운',\n",
       " '하게하다',\n",
       " '어느 년도',\n",
       " '하기만 하면',\n",
       " '즈음하여',\n",
       " '를',\n",
       " '요만한걸',\n",
       " 'ㅋㅋ',\n",
       " '등등',\n",
       " '다른',\n",
       " '하는 편이 낫다',\n",
       " '각각',\n",
       " '어떠한',\n",
       " '조금',\n",
       " '중에서',\n",
       " '부터',\n",
       " '으로써',\n",
       " '이것',\n",
       " '응',\n",
       " '제',\n",
       " '한 까닭에',\n",
       " '얼마나',\n",
       " '까지도',\n",
       " '하기 위하여',\n",
       " '붕붕',\n",
       " '기준으로',\n",
       " '가까스로',\n",
       " '솨',\n",
       " '심지어',\n",
       " '답변',\n",
       " '더구나',\n",
       " '의해서',\n",
       " '하는것도',\n",
       " '하기는한데',\n",
       " 'ㅎㅎㅎ',\n",
       " '어',\n",
       " '둘',\n",
       " '이렇게 많은 것',\n",
       " '하여야',\n",
       " '참나',\n",
       " '바와같이',\n",
       " '시초에',\n",
       " '근거로',\n",
       " '거의',\n",
       " '그리하',\n",
       " '다시 말하자면',\n",
       " '오자마자',\n",
       " '결국',\n",
       " '이천육',\n",
       " '한다면',\n",
       " '더욱더',\n",
       " '버금',\n",
       " 'ㅡㅡㅡ',\n",
       " '해도된다',\n",
       " '셋',\n",
       " '너희들',\n",
       " '것',\n",
       " '어느때',\n",
       " '알았어',\n",
       " '향하여',\n",
       " '할 생각이다',\n",
       " '옆사람',\n",
       " '오직',\n",
       " '한적이있다',\n",
       " '전부',\n",
       " '바로',\n",
       " '통하여',\n",
       " '네',\n",
       " '얼마큼',\n",
       " '아홉',\n",
       " '아무거나',\n",
       " '자',\n",
       " '위해서',\n",
       " '아니라면',\n",
       " '툭',\n",
       " '들',\n",
       " '결론을 낼 수 있다',\n",
       " '그래',\n",
       " '바꿔 말하면',\n",
       " '구',\n",
       " '삐걱거리다',\n",
       " '해봐요',\n",
       " '조차도',\n",
       " '그러나',\n",
       " '만약',\n",
       " '비록',\n",
       " '소생',\n",
       " '저것만큼',\n",
       " '이쪽',\n",
       " '자기',\n",
       " '휘익',\n",
       " '있다',\n",
       " '쉿',\n",
       " '봐',\n",
       " '의지하여',\n",
       " '영차',\n",
       " '무릎쓰고',\n",
       " '대로 하다',\n",
       " '한 이유는',\n",
       " '허',\n",
       " 'ㅡㅡ',\n",
       " '뿐만아니라',\n",
       " '입장에서',\n",
       " '반대로',\n",
       " '일것이다',\n",
       " '이어서',\n",
       " '어째서',\n",
       " '어쨋든',\n",
       " '거바',\n",
       " '하면 할수록',\n",
       " '보는데서',\n",
       " '시간',\n",
       " '제각기',\n",
       " '으로서',\n",
       " '하고 있다',\n",
       " '얼마든지',\n",
       " '이곳',\n",
       " '로',\n",
       " '언제',\n",
       " '에 있다',\n",
       " '얼마만큼',\n",
       " '이번',\n",
       " '나',\n",
       " '앗',\n",
       " '우르르',\n",
       " '언젠가',\n",
       " '누구',\n",
       " '구체적으로',\n",
       " '거니와',\n",
       " '각자',\n",
       " '여전히',\n",
       " '잠시',\n",
       " '어이',\n",
       " '관해서는',\n",
       " '이용하여',\n",
       " '이었다',\n",
       " '륙',\n",
       " '이때',\n",
       " '따라서',\n",
       " '잇따라',\n",
       " '만 못하다',\n",
       " '그러면',\n",
       " '휴',\n",
       " '저것',\n",
       " '위하여',\n",
       " '할줄알다',\n",
       " '외에도',\n",
       " '와아',\n",
       " '로부터',\n",
       " '이렇게',\n",
       " '다니',\n",
       " '팔',\n",
       " '요만큼',\n",
       " 'ㅋㅋㅋ',\n",
       " '아이구',\n",
       " '하기 때문에',\n",
       " '안 그러면',\n",
       " '한마디',\n",
       " '여보시오',\n",
       " '약간',\n",
       " '저',\n",
       " '말하자면',\n",
       " '시작하여',\n",
       " '와',\n",
       " '힘입어',\n",
       " '영',\n",
       " '점에서 보아',\n",
       " '견지에서',\n",
       " '이라면',\n",
       " '여섯',\n",
       " '또한',\n",
       " '답다',\n",
       " '하겠는가',\n",
       " '아니었다면',\n",
       " '일반적으로',\n",
       " '생각한대로',\n",
       " '이렇구나',\n",
       " '우선',\n",
       " '일',\n",
       " 'ㅎ',\n",
       " '아이쿠',\n",
       " '모',\n",
       " '만일',\n",
       " '예를 들면',\n",
       " '으로 인하여',\n",
       " '않기 위하여',\n",
       " '본대로',\n",
       " '한 후',\n",
       " '그것',\n",
       " '이천칠',\n",
       " '딩동',\n",
       " '다른 방면으로',\n",
       " '차라리',\n",
       " '더불어',\n",
       " '마저',\n",
       " '시각',\n",
       " '아하',\n",
       " '하기보다는',\n",
       " '그리',\n",
       " '헉헉',\n",
       " '할때',\n",
       " '이럴정도로',\n",
       " '임에 틀림없다',\n",
       " '해서는 안된다',\n",
       " '하게될것이다',\n",
       " '모두',\n",
       " '비슷하다',\n",
       " '때문에',\n",
       " '끼익',\n",
       " '하마터면',\n",
       " '아니',\n",
       " '이러',\n",
       " '기타',\n",
       " '해야한다',\n",
       " '논하지 않다',\n",
       " '왜냐하면']"
      ]
     },
     "execution_count": 13,
     "metadata": {},
     "output_type": "execute_result"
    }
   ],
   "source": [
    "a"
   ]
  },
  {
   "cell_type": "code",
   "execution_count": 14,
   "metadata": {},
   "outputs": [],
   "source": [
    "SW = set(a)"
   ]
  },
  {
   "cell_type": "code",
   "execution_count": 15,
   "metadata": {},
   "outputs": [],
   "source": [
    "SW.add('카레')\n",
    "SW.add('엄마')\n",
    "SW.add('아빠')"
   ]
  },
  {
   "cell_type": "code",
   "execution_count": 16,
   "metadata": {
    "scrolled": true
   },
   "outputs": [
    {
     "data": {
      "text/plain": [
       "611"
      ]
     },
     "execution_count": 16,
     "metadata": {},
     "output_type": "execute_result"
    }
   ],
   "source": [
    "len(SW)"
   ]
  },
  {
   "cell_type": "code",
   "execution_count": 17,
   "metadata": {},
   "outputs": [],
   "source": [
    "from konlpy.tag import Mecab\n",
    "import json\n",
    "import os\n",
    "import re\n",
    "from pprint import pprint"
   ]
  },
  {
   "cell_type": "code",
   "execution_count": 18,
   "metadata": {},
   "outputs": [],
   "source": [
    "#텍스트 클리닝과 텍스트 토큰화\n",
    "from konlpy.tag import Okt\n",
    "from konlpy.tag import Kkma\n",
    "from konlpy.tag import Hannanum\n",
    "#from konlpy.tag import Okt 보통의 경우에는 Okt를 사용하지 x\n",
    "import json\n",
    "import os\n",
    "import re\n",
    "from pprint import pprint\n",
    "\n",
    "# okt = Okt()\n",
    "# mecab = Mecab()\n",
    "# kkma = Kkma()\n",
    "# hannanum = Hannanum()\n",
    "\n",
    "SW = define_stopwords('./stopwords-ko.txt') # 불용어들을 SW에 저장 \n",
    "\n",
    "if os.path.exists('Multi_train_docs.json'): #op.path.exists() 어떤 파일이 디렉토리에 있는지 확인하는 함수 있으면 true출력\n",
    "    with open(\"Multi_train_docs.json\", encoding='utf-8') as f: #if를 만족하면 파일을 불러올 수 있다 \n",
    "        train_data = json.load(f)\n",
    "else:\n",
    "    #토큰화와 클리닝까지 \n",
    "    #투플은 리스트와 비슷하지만 값은 변경할 수 없다 \n",
    "    #line[1]을 토큰화하는 이유는 line[1]에 리뷰가 존재\n",
    "    #클리닝을 먼저하고 토큰화를 하는게 좋다 \n",
    "    train_data = [(text_tokenizing(text_cleaning(line[0])), line[1])for line in list1 if text_tokenizing(text_cleaning(line[0]))]\n",
    "    #클리닝을 넣고 토큰화진행  \n",
    "    #이게 토큰화만 수행하는 코드 train_data = [(text_tokenizing(line[1]), line[2]) for line in train_docs if text_tokenizing(line[1])] if뒤에는 만약 ㅋㅋㅋ같은거는 토큰화하면 날라가므로 그러면 거기에는 빈 리스트만 존재하니깐 그걸 방지하기 위해\n",
    "    \n",
    "    with open(\"Multi_train_docs.json\", 'w', encoding='utf-8') as f:\n",
    "        json.dump(train_data, f, ensure_ascii=False, indent='\\t')\n",
    "        \n",
    "# if os.path.exists('test_docs.json'):\n",
    "#     with open(\"test_docs.json\", encoding='utf-8') as f:\n",
    "#         test_data = json.load(f)\n",
    "# else:\n",
    "#     test_data = [(text_tokenizing(text_cleaning(line[1])), line[2]) for line in test_docs if text_tokenizing(text_cleaning(line[1]))]\n",
    "#     #test_data = [(text_tokenizing(line[1]), line[2]) for line in test_docs if text_tokenizing(line[1])]\n",
    "#     with open(\"test_docs.json\", 'w', encoding='utf-8') as f:\n",
    "#         json.dump(test_data, f, ensure_ascii=False, indent='\\t')\n",
    "\n",
    "# pprint(train_data[0])\n",
    "# pprint(test_data[0])"
   ]
  },
  {
   "cell_type": "code",
   "execution_count": 19,
   "metadata": {},
   "outputs": [
    {
     "data": {
      "text/plain": [
       "21162"
      ]
     },
     "execution_count": 19,
     "metadata": {},
     "output_type": "execute_result"
    }
   ],
   "source": [
    "import nltk\n",
    "total_tokens = [token for doc in train_data for token in doc]\n",
    "len(total_tokens)"
   ]
  },
  {
   "cell_type": "code",
   "execution_count": 20,
   "metadata": {},
   "outputs": [],
   "source": [
    "Senti = [] \n",
    "for i in range(len(train_data)):\n",
    "    Senti.append(train_data[i][1])"
   ]
  },
  {
   "cell_type": "code",
   "execution_count": 21,
   "metadata": {},
   "outputs": [],
   "source": [
    "Senti = pd.DataFrame(Senti)"
   ]
  },
  {
   "cell_type": "code",
   "execution_count": 22,
   "metadata": {
    "scrolled": true
   },
   "outputs": [
    {
     "data": {
      "text/html": [
       "<div>\n",
       "<style scoped>\n",
       "    .dataframe tbody tr th:only-of-type {\n",
       "        vertical-align: middle;\n",
       "    }\n",
       "\n",
       "    .dataframe tbody tr th {\n",
       "        vertical-align: top;\n",
       "    }\n",
       "\n",
       "    .dataframe thead th {\n",
       "        text-align: right;\n",
       "    }\n",
       "</style>\n",
       "<table border=\"1\" class=\"dataframe\">\n",
       "  <thead>\n",
       "    <tr style=\"text-align: right;\">\n",
       "      <th></th>\n",
       "      <th>0</th>\n",
       "    </tr>\n",
       "  </thead>\n",
       "  <tbody>\n",
       "    <tr>\n",
       "      <td>0</td>\n",
       "      <td>1</td>\n",
       "    </tr>\n",
       "    <tr>\n",
       "      <td>1</td>\n",
       "      <td>1</td>\n",
       "    </tr>\n",
       "    <tr>\n",
       "      <td>2</td>\n",
       "      <td>1</td>\n",
       "    </tr>\n",
       "    <tr>\n",
       "      <td>3</td>\n",
       "      <td>1</td>\n",
       "    </tr>\n",
       "    <tr>\n",
       "      <td>4</td>\n",
       "      <td>1</td>\n",
       "    </tr>\n",
       "    <tr>\n",
       "      <td>...</td>\n",
       "      <td>...</td>\n",
       "    </tr>\n",
       "    <tr>\n",
       "      <td>10576</td>\n",
       "      <td>3</td>\n",
       "    </tr>\n",
       "    <tr>\n",
       "      <td>10577</td>\n",
       "      <td>3</td>\n",
       "    </tr>\n",
       "    <tr>\n",
       "      <td>10578</td>\n",
       "      <td>3</td>\n",
       "    </tr>\n",
       "    <tr>\n",
       "      <td>10579</td>\n",
       "      <td>3</td>\n",
       "    </tr>\n",
       "    <tr>\n",
       "      <td>10580</td>\n",
       "      <td>3</td>\n",
       "    </tr>\n",
       "  </tbody>\n",
       "</table>\n",
       "<p>10581 rows × 1 columns</p>\n",
       "</div>"
      ],
      "text/plain": [
       "       0\n",
       "0      1\n",
       "1      1\n",
       "2      1\n",
       "3      1\n",
       "4      1\n",
       "...   ..\n",
       "10576  3\n",
       "10577  3\n",
       "10578  3\n",
       "10579  3\n",
       "10580  3\n",
       "\n",
       "[10581 rows x 1 columns]"
      ]
     },
     "execution_count": 22,
     "metadata": {},
     "output_type": "execute_result"
    }
   ],
   "source": [
    "Senti"
   ]
  },
  {
   "cell_type": "code",
   "execution_count": 23,
   "metadata": {},
   "outputs": [],
   "source": [
    "Senti.rename(columns = { 0 : 'Label'}, inplace = True)"
   ]
  },
  {
   "cell_type": "code",
   "execution_count": 24,
   "metadata": {
    "scrolled": true
   },
   "outputs": [
    {
     "data": {
      "text/html": [
       "<div>\n",
       "<style scoped>\n",
       "    .dataframe tbody tr th:only-of-type {\n",
       "        vertical-align: middle;\n",
       "    }\n",
       "\n",
       "    .dataframe tbody tr th {\n",
       "        vertical-align: top;\n",
       "    }\n",
       "\n",
       "    .dataframe thead th {\n",
       "        text-align: right;\n",
       "    }\n",
       "</style>\n",
       "<table border=\"1\" class=\"dataframe\">\n",
       "  <thead>\n",
       "    <tr style=\"text-align: right;\">\n",
       "      <th></th>\n",
       "      <th>Label</th>\n",
       "    </tr>\n",
       "  </thead>\n",
       "  <tbody>\n",
       "    <tr>\n",
       "      <td>0</td>\n",
       "      <td>1</td>\n",
       "    </tr>\n",
       "    <tr>\n",
       "      <td>1</td>\n",
       "      <td>1</td>\n",
       "    </tr>\n",
       "    <tr>\n",
       "      <td>2</td>\n",
       "      <td>1</td>\n",
       "    </tr>\n",
       "    <tr>\n",
       "      <td>3</td>\n",
       "      <td>1</td>\n",
       "    </tr>\n",
       "    <tr>\n",
       "      <td>4</td>\n",
       "      <td>1</td>\n",
       "    </tr>\n",
       "    <tr>\n",
       "      <td>...</td>\n",
       "      <td>...</td>\n",
       "    </tr>\n",
       "    <tr>\n",
       "      <td>10576</td>\n",
       "      <td>3</td>\n",
       "    </tr>\n",
       "    <tr>\n",
       "      <td>10577</td>\n",
       "      <td>3</td>\n",
       "    </tr>\n",
       "    <tr>\n",
       "      <td>10578</td>\n",
       "      <td>3</td>\n",
       "    </tr>\n",
       "    <tr>\n",
       "      <td>10579</td>\n",
       "      <td>3</td>\n",
       "    </tr>\n",
       "    <tr>\n",
       "      <td>10580</td>\n",
       "      <td>3</td>\n",
       "    </tr>\n",
       "  </tbody>\n",
       "</table>\n",
       "<p>10581 rows × 1 columns</p>\n",
       "</div>"
      ],
      "text/plain": [
       "       Label\n",
       "0          1\n",
       "1          1\n",
       "2          1\n",
       "3          1\n",
       "4          1\n",
       "...      ...\n",
       "10576      3\n",
       "10577      3\n",
       "10578      3\n",
       "10579      3\n",
       "10580      3\n",
       "\n",
       "[10581 rows x 1 columns]"
      ]
     },
     "execution_count": 24,
     "metadata": {},
     "output_type": "execute_result"
    }
   ],
   "source": [
    "Senti"
   ]
  },
  {
   "cell_type": "code",
   "execution_count": 25,
   "metadata": {},
   "outputs": [
    {
     "data": {
      "text/plain": [
       "[1, 2, 3, 4]"
      ]
     },
     "execution_count": 25,
     "metadata": {},
     "output_type": "execute_result"
    }
   ],
   "source": [
    "labels = Senti['Label']\n",
    "\n",
    "classes = sorted(labels.unique())\n",
    "classes"
   ]
  },
  {
   "cell_type": "code",
   "execution_count": 26,
   "metadata": {},
   "outputs": [
    {
     "data": {
      "text/plain": [
       "{1: array([1, 0, 0, 0], dtype=int8),\n",
       " 2: array([0, 1, 0, 0], dtype=int8),\n",
       " 3: array([0, 0, 1, 0], dtype=int8),\n",
       " 4: array([0, 0, 0, 1], dtype=int8)}"
      ]
     },
     "execution_count": 26,
     "metadata": {},
     "output_type": "execute_result"
    }
   ],
   "source": [
    "label_to_cat = dict()\n",
    "for i in range(len(classes)):\n",
    "    dummy = np.zeros((len(classes),), dtype = 'int8')\n",
    "    dummy[i] = 1\n",
    "    label_to_cat[classes[i]] = dummy\n",
    "    \n",
    "label_to_cat"
   ]
  },
  {
   "cell_type": "code",
   "execution_count": 27,
   "metadata": {
    "scrolled": true
   },
   "outputs": [
    {
     "data": {
      "text/plain": [
       "array([[1, 0, 0, 0],\n",
       "       [1, 0, 0, 0],\n",
       "       [1, 0, 0, 0],\n",
       "       ...,\n",
       "       [0, 0, 1, 0],\n",
       "       [0, 0, 1, 0],\n",
       "       [0, 0, 1, 0]], dtype=int8)"
      ]
     },
     "execution_count": 27,
     "metadata": {},
     "output_type": "execute_result"
    }
   ],
   "source": [
    "y = np.array([label_to_cat[label] for label in Senti.Label])\n",
    "y"
   ]
  },
  {
   "cell_type": "code",
   "execution_count": 28,
   "metadata": {},
   "outputs": [],
   "source": [
    "Text = []\n",
    "for i in range(len(train_data)):\n",
    "    Text.append(train_data[i][0])"
   ]
  },
  {
   "cell_type": "code",
   "execution_count": 29,
   "metadata": {},
   "outputs": [
    {
     "name": "stdout",
     "output_type": "stream",
     "text": [
      "10581\n",
      "10581\n"
     ]
    }
   ],
   "source": [
    "print(len(y))\n",
    "print(len(Text))"
   ]
  },
  {
   "cell_type": "markdown",
   "metadata": {},
   "source": [
    "### LSTM"
   ]
  },
  {
   "cell_type": "code",
   "execution_count": 30,
   "metadata": {},
   "outputs": [],
   "source": [
    "max_words = 5000\n",
    "max_len = 100\n",
    "Batch_size = 32\n",
    "Epochs = 20"
   ]
  },
  {
   "cell_type": "markdown",
   "metadata": {},
   "source": [
    "### ================================"
   ]
  },
  {
   "cell_type": "code",
   "execution_count": 31,
   "metadata": {},
   "outputs": [],
   "source": [
    "from tensorflow.keras.preprocessing.text import Tokenizer\n",
    "from tensorflow.keras.preprocessing.sequence import pad_sequences\n",
    "import numpy as np\n",
    "import math\n",
    "import tensorflow as tf\n",
    "from tensorflow.keras import models\n",
    "from tensorflow.keras import layers\n",
    "from keras.layers import Activation, SimpleRNN\n",
    "import gensim\n",
    "from gensim import models\n",
    "from gensim.models import Word2Vec, KeyedVectors"
   ]
  },
  {
   "cell_type": "code",
   "execution_count": 32,
   "metadata": {},
   "outputs": [
    {
     "data": {
      "text/plain": [
       "(3797258, 4237810)"
      ]
     },
     "execution_count": 32,
     "metadata": {},
     "output_type": "execute_result"
    }
   ],
   "source": [
    "embeddings = Word2Vec(size=200, min_count=3, window = 3)\n",
    "embeddings.build_vocab([sentence for sentence in Text])\n",
    "embeddings.train([sentence for sentence in Text],\n",
    "                 total_examples=embeddings.corpus_count,\n",
    "                 epochs=embeddings.epochs)"
   ]
  },
  {
   "cell_type": "code",
   "execution_count": 33,
   "metadata": {
    "scrolled": true
   },
   "outputs": [
    {
     "name": "stdout",
     "output_type": "stream",
     "text": [
      "완료\n"
     ]
    }
   ],
   "source": [
    "embeddings.save('Multi_Embedding_크롤링10000개.model')\n",
    "print('완료')"
   ]
  },
  {
   "cell_type": "code",
   "execution_count": 34,
   "metadata": {},
   "outputs": [],
   "source": [
    "vocab = dict(embeddings.wv.most_similar('상처'))"
   ]
  },
  {
   "cell_type": "code",
   "execution_count": 35,
   "metadata": {
    "scrolled": false
   },
   "outputs": [
    {
     "name": "stderr",
     "output_type": "stream",
     "text": [
      "/Users/Moon/opt/anaconda3/lib/python3.7/site-packages/ipykernel_launcher.py:1: DeprecationWarning: Call to deprecated `__getitem__` (Method will be removed in 4.0.0, use self.wv.__getitem__() instead).\n",
      "  \"\"\"Entry point for launching an IPython kernel.\n"
     ]
    }
   ],
   "source": [
    "X = embeddings[vocab]"
   ]
  },
  {
   "cell_type": "code",
   "execution_count": 36,
   "metadata": {},
   "outputs": [],
   "source": [
    "from sklearn.manifold import TSNE"
   ]
  },
  {
   "cell_type": "code",
   "execution_count": 37,
   "metadata": {},
   "outputs": [],
   "source": [
    "tsne = TSNE(n_components = 2)\n",
    "X_tsne = tsne.fit_transform(X)"
   ]
  },
  {
   "cell_type": "code",
   "execution_count": 38,
   "metadata": {},
   "outputs": [],
   "source": [
    "df = pd.DataFrame(X_tsne, index=vocab, columns=['x', 'y'])"
   ]
  },
  {
   "cell_type": "code",
   "execution_count": 39,
   "metadata": {},
   "outputs": [
    {
     "data": {
      "image/png": "[encoded data removed]",
      "text/plain": [
       "<Figure size 360x360 with 1 Axes>"
      ]
     },
     "metadata": {
      "needs_background": "light"
     },
     "output_type": "display_data"
    }
   ],
   "source": [
    "fig = plt.figure()\n",
    "fig.set_size_inches(5, 5)\n",
    "ax = fig.add_subplot(1, 1, 1)\n",
    "\n",
    "ax.scatter(df['x'], df['y'])\n",
    "\n",
    "for word, pos in df.iterrows():\n",
    "    ax.annotate(word, pos,fontsize=15)\n",
    "    \n",
    "plt.show()"
   ]
  },
  {
   "cell_type": "code",
   "execution_count": 40,
   "metadata": {},
   "outputs": [],
   "source": [
    "def encode_sentence_lstm(tokens, emb_size):\n",
    "    vec = np.zeros((80, 200))\n",
    "    #maxlen = 80이고 컬럼이 200?\n",
    "    for i, word in enumerate(tokens):\n",
    "        if i > 79:\n",
    "            break\n",
    "        try:\n",
    "            vec[i] = embeddings.wv[word].reshape((1, emb_size))\n",
    "        except KeyError:\n",
    "            continue\n",
    "    return vec"
   ]
  },
  {
   "cell_type": "code",
   "execution_count": 41,
   "metadata": {},
   "outputs": [],
   "source": [
    "X = np.array([encode_sentence_lstm(ele, 200) for ele in map(lambda x: x, Text)])\n",
    "\n",
    "train_text, test_text, train_senti, test_senti = train_test_split(X, y, stratify = y)"
   ]
  },
  {
   "cell_type": "code",
   "execution_count": 42,
   "metadata": {},
   "outputs": [
    {
     "data": {
      "text/plain": [
       "(7935, 80, 200)"
      ]
     },
     "execution_count": 42,
     "metadata": {},
     "output_type": "execute_result"
    }
   ],
   "source": [
    "train_text.shape"
   ]
  },
  {
   "cell_type": "code",
   "execution_count": 43,
   "metadata": {},
   "outputs": [
    {
     "data": {
      "text/plain": [
       "7935"
      ]
     },
     "execution_count": 43,
     "metadata": {},
     "output_type": "execute_result"
    }
   ],
   "source": [
    "len(train_text)"
   ]
  },
  {
   "cell_type": "code",
   "execution_count": 44,
   "metadata": {},
   "outputs": [
    {
     "data": {
      "text/plain": [
       "7935"
      ]
     },
     "execution_count": 44,
     "metadata": {},
     "output_type": "execute_result"
    }
   ],
   "source": [
    "len(train_senti)"
   ]
  },
  {
   "cell_type": "markdown",
   "metadata": {},
   "source": [
    "### ====================================="
   ]
  },
  {
   "cell_type": "code",
   "execution_count": 45,
   "metadata": {},
   "outputs": [],
   "source": [
    "import keras.utils\n",
    "from keras.layers import Dense, Activation, Flatten\n",
    "from tensorflow.keras import models\n",
    "from tensorflow.keras import layers\n",
    "from keras.layers import Input, Dense, LSTM, GRU, LeakyReLU, Dropout\n",
    "from keras.engine import Layer\n",
    "from keras.models import Sequential, Model, load_model\n",
    "from keras import backend as K\n",
    "from keras.engine import Layer\n",
    "from keras.models import Sequential, Model, load_model\n",
    "from keras.layers import Input, Dense, LSTM, GRU, LeakyReLU, Dropout\n",
    "from keras.layers import  Embedding, Bidirectional\n",
    "from keras.callbacks import ModelCheckpoint, TensorBoard, EarlyStopping\n",
    "from keras.optimizers import Adam\n",
    "from keras.preprocessing.text import Tokenizer\n",
    "from keras.preprocessing.sequence import pad_sequences\n"
   ]
  },
  {
   "cell_type": "code",
   "execution_count": 68,
   "metadata": {
    "scrolled": true
   },
   "outputs": [
    {
     "name": "stdout",
     "output_type": "stream",
     "text": [
      "Model: \"model_3\"\n",
      "_________________________________________________________________\n",
      "Layer (type)                 Output Shape              Param #   \n",
      "=================================================================\n",
      "input_3 (InputLayer)         (None, 80, 200)           0         \n",
      "_________________________________________________________________\n",
      "bidirectional_4 (Bidirection (None, 80, 512)           935936    \n",
      "_________________________________________________________________\n",
      "bidirectional_5 (Bidirection (None, 256)               656384    \n",
      "_________________________________________________________________\n",
      "dense_9 (Dense)              (None, 128)               32896     \n",
      "_________________________________________________________________\n",
      "dropout_3 (Dropout)          (None, 128)               0         \n",
      "_________________________________________________________________\n",
      "dense_10 (Dense)             (None, 64)                8256      \n",
      "_________________________________________________________________\n",
      "dense_11 (Dense)             (None, 16)                1040      \n",
      "_________________________________________________________________\n",
      "dense_12 (Dense)             (None, 4)                 68        \n",
      "=================================================================\n",
      "Total params: 1,634,580\n",
      "Trainable params: 1,634,580\n",
      "Non-trainable params: 0\n",
      "_________________________________________________________________\n"
     ]
    }
   ],
   "source": [
    "input_tensor = Input(shape=(80,200))\n",
    "x = Bidirectional(LSTM(256, return_sequences = True, dropout = 0.2))(input_tensor)\n",
    "x = Dense(128, activation = 'relu')(x)\n",
    "x = Dropout(0.3)(x)\n",
    "x = Dense(64, activation = 'relu')(x)\n",
    "x = Dense(16, activation='relu')(x)\n",
    "\n",
    "output_tensor = Dense(4, activation='softmax')(x)\n",
    "\n",
    "model = Model(inputs=[input_tensor], outputs=[output_tensor])\n",
    "\n",
    "model.summary()"
   ]
  },
  {
   "cell_type": "markdown",
   "metadata": {},
   "source": [
    "input_tensor = Input(shape=(80,200))\n",
    "x = Bidirectional(LSTM(256, return_sequences = True, dropout = 0.2))(input_tensor)\n",
    "x = Bidirectional(LSTM(128, return_sequences = False, dropout = 0.2))(x)\n",
    "x = Dense(128, activation = 'relu')(x)\n",
    "x = Dropout(0.3)(x)\n",
    "x = Dense(64, activation = 'relu')(x)\n",
    "x = Dense(16, activation='relu')(x)\n",
    "\n",
    "output_tensor = Dense(4, activation='softmax')(x)\n",
    "\n",
    "model = Model(inputs=[input_tensor], outputs=[output_tensor])\n",
    "\n",
    "model.summary()"
   ]
  },
  {
   "cell_type": "markdown",
   "metadata": {},
   "source": [
    "### 일단 실행하지마셈 "
   ]
  },
  {
   "cell_type": "code",
   "execution_count": 69,
   "metadata": {},
   "outputs": [],
   "source": [
    "earlystopper = tf.keras.callbacks.EarlyStopping(monitor = 'val_loss', patience = 3, verbose = 1)"
   ]
  },
  {
   "cell_type": "code",
   "execution_count": 70,
   "metadata": {},
   "outputs": [],
   "source": [
    "model.compile(optimizer = 'adam', loss = 'categorical_crossentropy', metrics = ['accuracy'])"
   ]
  },
  {
   "cell_type": "code",
   "execution_count": 67,
   "metadata": {
    "scrolled": true
   },
   "outputs": [
    {
     "ename": "ValueError",
     "evalue": "Error when checking target: expected dense_8 to have 3 dimensions, but got array with shape (7935, 4)",
     "output_type": "error",
     "traceback": [
      "\u001b[0;31m---------------------------------------------------------------------------\u001b[0m",
      "\u001b[0;31mValueError\u001b[0m                                Traceback (most recent call last)",
      "\u001b[0;32m<ipython-input-67-2ec1bd63e84f>\u001b[0m in \u001b[0;36m<module>\u001b[0;34m\u001b[0m\n\u001b[0;32m----> 1\u001b[0;31m \u001b[0mhistory\u001b[0m \u001b[0;34m=\u001b[0m \u001b[0mmodel\u001b[0m\u001b[0;34m.\u001b[0m\u001b[0mfit\u001b[0m\u001b[0;34m(\u001b[0m\u001b[0mtrain_text\u001b[0m\u001b[0;34m,\u001b[0m \u001b[0mtrain_senti\u001b[0m\u001b[0;34m,\u001b[0m \u001b[0mepochs\u001b[0m\u001b[0;34m=\u001b[0m\u001b[0;36m20\u001b[0m\u001b[0;34m,\u001b[0m \u001b[0mverbose\u001b[0m\u001b[0;34m=\u001b[0m\u001b[0;36m1\u001b[0m\u001b[0;34m,\u001b[0m \u001b[0mbatch_size\u001b[0m \u001b[0;34m=\u001b[0m \u001b[0;36m32\u001b[0m\u001b[0;34m,\u001b[0m \u001b[0mvalidation_data\u001b[0m \u001b[0;34m=\u001b[0m \u001b[0;34m(\u001b[0m\u001b[0mtest_text\u001b[0m\u001b[0;34m,\u001b[0m \u001b[0mtest_senti\u001b[0m\u001b[0;34m)\u001b[0m\u001b[0;34m,\u001b[0m \u001b[0mcallbacks\u001b[0m \u001b[0;34m=\u001b[0m \u001b[0;34m[\u001b[0m\u001b[0mearlystopper\u001b[0m\u001b[0;34m]\u001b[0m\u001b[0;34m)\u001b[0m\u001b[0;34m\u001b[0m\u001b[0;34m\u001b[0m\u001b[0m\n\u001b[0m",
      "\u001b[0;32m~/opt/anaconda3/lib/python3.7/site-packages/keras/engine/training.py\u001b[0m in \u001b[0;36mfit\u001b[0;34m(self, x, y, batch_size, epochs, verbose, callbacks, validation_split, validation_data, shuffle, class_weight, sample_weight, initial_epoch, steps_per_epoch, validation_steps, validation_freq, max_queue_size, workers, use_multiprocessing, **kwargs)\u001b[0m\n\u001b[1;32m   1152\u001b[0m             \u001b[0msample_weight\u001b[0m\u001b[0;34m=\u001b[0m\u001b[0msample_weight\u001b[0m\u001b[0;34m,\u001b[0m\u001b[0;34m\u001b[0m\u001b[0;34m\u001b[0m\u001b[0m\n\u001b[1;32m   1153\u001b[0m             \u001b[0mclass_weight\u001b[0m\u001b[0;34m=\u001b[0m\u001b[0mclass_weight\u001b[0m\u001b[0;34m,\u001b[0m\u001b[0;34m\u001b[0m\u001b[0;34m\u001b[0m\u001b[0m\n\u001b[0;32m-> 1154\u001b[0;31m             batch_size=batch_size)\n\u001b[0m\u001b[1;32m   1155\u001b[0m \u001b[0;34m\u001b[0m\u001b[0m\n\u001b[1;32m   1156\u001b[0m         \u001b[0;31m# Prepare validation data.\u001b[0m\u001b[0;34m\u001b[0m\u001b[0;34m\u001b[0m\u001b[0;34m\u001b[0m\u001b[0m\n",
      "\u001b[0;32m~/opt/anaconda3/lib/python3.7/site-packages/keras/engine/training.py\u001b[0m in \u001b[0;36m_standardize_user_data\u001b[0;34m(self, x, y, sample_weight, class_weight, check_array_lengths, batch_size)\u001b[0m\n\u001b[1;32m    619\u001b[0m                 \u001b[0mfeed_output_shapes\u001b[0m\u001b[0;34m,\u001b[0m\u001b[0;34m\u001b[0m\u001b[0;34m\u001b[0m\u001b[0m\n\u001b[1;32m    620\u001b[0m                 \u001b[0mcheck_batch_axis\u001b[0m\u001b[0;34m=\u001b[0m\u001b[0;32mFalse\u001b[0m\u001b[0;34m,\u001b[0m  \u001b[0;31m# Don't enforce the batch size.\u001b[0m\u001b[0;34m\u001b[0m\u001b[0;34m\u001b[0m\u001b[0m\n\u001b[0;32m--> 621\u001b[0;31m                 exception_prefix='target')\n\u001b[0m\u001b[1;32m    622\u001b[0m \u001b[0;34m\u001b[0m\u001b[0m\n\u001b[1;32m    623\u001b[0m             \u001b[0;31m# Generate sample-wise weight values given the `sample_weight` and\u001b[0m\u001b[0;34m\u001b[0m\u001b[0;34m\u001b[0m\u001b[0;34m\u001b[0m\u001b[0m\n",
      "\u001b[0;32m~/opt/anaconda3/lib/python3.7/site-packages/keras/engine/training_utils.py\u001b[0m in \u001b[0;36mstandardize_input_data\u001b[0;34m(data, names, shapes, check_batch_axis, exception_prefix)\u001b[0m\n\u001b[1;32m    133\u001b[0m                         \u001b[0;34m': expected '\u001b[0m \u001b[0;34m+\u001b[0m \u001b[0mnames\u001b[0m\u001b[0;34m[\u001b[0m\u001b[0mi\u001b[0m\u001b[0;34m]\u001b[0m \u001b[0;34m+\u001b[0m \u001b[0;34m' to have '\u001b[0m \u001b[0;34m+\u001b[0m\u001b[0;34m\u001b[0m\u001b[0;34m\u001b[0m\u001b[0m\n\u001b[1;32m    134\u001b[0m                         \u001b[0mstr\u001b[0m\u001b[0;34m(\u001b[0m\u001b[0mlen\u001b[0m\u001b[0;34m(\u001b[0m\u001b[0mshape\u001b[0m\u001b[0;34m)\u001b[0m\u001b[0;34m)\u001b[0m \u001b[0;34m+\u001b[0m \u001b[0;34m' dimensions, but got array '\u001b[0m\u001b[0;34m\u001b[0m\u001b[0;34m\u001b[0m\u001b[0m\n\u001b[0;32m--> 135\u001b[0;31m                         'with shape ' + str(data_shape))\n\u001b[0m\u001b[1;32m    136\u001b[0m                 \u001b[0;32mif\u001b[0m \u001b[0;32mnot\u001b[0m \u001b[0mcheck_batch_axis\u001b[0m\u001b[0;34m:\u001b[0m\u001b[0;34m\u001b[0m\u001b[0;34m\u001b[0m\u001b[0m\n\u001b[1;32m    137\u001b[0m                     \u001b[0mdata_shape\u001b[0m \u001b[0;34m=\u001b[0m \u001b[0mdata_shape\u001b[0m\u001b[0;34m[\u001b[0m\u001b[0;36m1\u001b[0m\u001b[0;34m:\u001b[0m\u001b[0;34m]\u001b[0m\u001b[0;34m\u001b[0m\u001b[0;34m\u001b[0m\u001b[0m\n",
      "\u001b[0;31mValueError\u001b[0m: Error when checking target: expected dense_8 to have 3 dimensions, but got array with shape (7935, 4)"
     ]
    }
   ],
   "source": [
    "history = model.fit(train_text, train_senti, epochs=20, verbose=1, batch_size = 32, validation_data = (test_text, test_senti), callbacks = [earlystopper])\n"
   ]
  },
  {
   "cell_type": "code",
   "execution_count": 50,
   "metadata": {
    "scrolled": true
   },
   "outputs": [
    {
     "name": "stdout",
     "output_type": "stream",
     "text": [
      "2646/2646 [==============================] - 9s 3ms/step\n"
     ]
    }
   ],
   "source": [
    "score, acc = model.evaluate(test_text, test_senti, verbose = 1)"
   ]
  },
  {
   "cell_type": "code",
   "execution_count": 51,
   "metadata": {
    "scrolled": true
   },
   "outputs": [
    {
     "name": "stdout",
     "output_type": "stream",
     "text": [
      "Test Score: 0.5660406172681017\n",
      "Test Accuracy: 0.8027210831642151\n"
     ]
    }
   ],
   "source": [
    "print('Test Score:' , score)\n",
    "print('Test Accuracy:' , acc)"
   ]
  },
  {
   "cell_type": "code",
   "execution_count": 52,
   "metadata": {},
   "outputs": [],
   "source": [
    "import matplotlib.pyplot as plt\n",
    "from math import pi"
   ]
  },
  {
   "cell_type": "code",
   "execution_count": 53,
   "metadata": {},
   "outputs": [],
   "source": [
    "pred_probs = model.predict(train_text)"
   ]
  },
  {
   "cell_type": "code",
   "execution_count": 54,
   "metadata": {
    "scrolled": true
   },
   "outputs": [
    {
     "name": "stdout",
     "output_type": "stream",
     "text": [
      "[[0.474 0.079 0.441 0.006]\n",
      " [0.993 0.004 0.001 0.002]\n",
      " [0.934 0.062 0.002 0.003]\n",
      " [0.002 0.951 0.046 0.001]\n",
      " [0.189 0.14  0.629 0.042]\n",
      " [0.004 0.004 0.    0.992]\n",
      " [0.885 0.072 0.025 0.018]\n",
      " [0.    0.    0.    1.   ]\n",
      " [0.199 0.31  0.018 0.473]\n",
      " [0.684 0.294 0.015 0.007]]\n"
     ]
    }
   ],
   "source": [
    "print(np.round(pred_probs[:10],3))"
   ]
  },
  {
   "cell_type": "code",
   "execution_count": 55,
   "metadata": {},
   "outputs": [
    {
     "data": {
      "image/png": "[encoded data removed]",
      "text/plain": [
       "<Figure size 432x288 with 1 Axes>"
      ]
     },
     "metadata": {
      "needs_background": "light"
     },
     "output_type": "display_data"
    }
   ],
   "source": [
    "import matplotlib.pyplot as plt\n",
    "%matplotlib inline\n",
    "\n",
    "loss = history.history['loss']\n",
    "val_loss = history.history['val_loss']\n",
    "\n",
    "plt.figure()\n",
    "plt.plot(loss, 'ro-', label = 'train_loss')\n",
    "plt.plot(val_loss, 'bo-', label = 'val_loss')\n",
    "plt.ylabel('Cross Entrophy')\n",
    "plt.xlabel('Epoch')\n",
    "plt.legend(loc = 'upper right')\n",
    "plt.title('Training and Validation Loss')\n",
    "plt.show()"
   ]
  },
  {
   "attachments": {
    "image.png": {
     "image/png": "[encoded data removed]"
    }
   },
   "cell_type": "markdown",
   "metadata": {},
   "source": [
    "![image.png](attachment:image.png)"
   ]
  },
  {
   "cell_type": "markdown",
   "metadata": {},
   "source": [
    "### Test"
   ]
  },
  {
   "cell_type": "code",
   "execution_count": 57,
   "metadata": {},
   "outputs": [],
   "source": [
    "def sentiment_predict(new_sentence):\n",
    "    if new_sentence != '':\n",
    "        new_sentence1 = text_cleaning(new_sentence)\n",
    "        new_sentence2 = rhinoMorph.onlyMorph_list(rn,new_sentence1, pos = ['NNG', 'NNP','NP', 'VV', 'VA', 'XR', 'IC', 'MM', 'MAG', 'MAJ'], eomi = False)\n",
    "        new_sentence3 = [word for word in new_sentence2 if not word in SW] # 불용어 제거\n",
    "        if new_sentence3 != []:\n",
    "            X = np.array([encode_sentence_lstm(new_sentence3,200)])\n",
    "            pred_probs = model.predict(X) # 예측\n",
    "            \n",
    "            categories = ['정서학대', '신체학대','방임', '성학대']\n",
    "\n",
    "            N = len(categories)\n",
    "\n",
    "            values = np.round(pred_probs, 3).flatten().tolist()\n",
    "            values += values[:1]\n",
    "\n",
    "            angles = [n / float(N) * 2 * pi for n in range(N)]\n",
    "            angles += angles[:1]\n",
    "\n",
    "            plt.polar(angles, values)\n",
    "            plt.fill(angles, values, alpha = 0.5)\n",
    "            plt.xticks(angles[:-1], categories)\n",
    "\n",
    "            plt.yticks([0,0.5, 1.0])\n",
    "            plt.ylim(0,1)\n",
    "            \n",
    "            plt.show()"
   ]
  },
  {
   "cell_type": "code",
   "execution_count": 73,
   "metadata": {
    "scrolled": true
   },
   "outputs": [
    {
     "name": "stdout",
     "output_type": "stream",
     "text": [
      "엄마가 제 몸을 자꾸 만지고 훑어봐요 아빠는 나를 자꾸 때립니다 정신적으로 너무 힘들어요.... 우울합니다\n"
     ]
    }
   ],
   "source": [
    "doc = input()\n",
    "#엄마가 내몸을 만지고 아빠가 나를 때렸어요."
   ]
  },
  {
   "cell_type": "code",
   "execution_count": 74,
   "metadata": {
    "scrolled": true
   },
   "outputs": [
    {
     "data": {
      "image/png": "[encoded data removed]",
      "text/plain": [
       "<Figure size 432x288 with 1 Axes>"
      ]
     },
     "metadata": {
      "needs_background": "light"
     },
     "output_type": "display_data"
    }
   ],
   "source": [
    "sentiment_predict(doc)"
   ]
  },
  {
   "cell_type": "code",
   "execution_count": 60,
   "metadata": {},
   "outputs": [],
   "source": [
    "model_json = model.to_json()\n",
    "with open('./Multi_model.json', 'w') as json_file:\n",
    "    json_file.write(model_json)"
   ]
  },
  {
   "cell_type": "code",
   "execution_count": 61,
   "metadata": {},
   "outputs": [],
   "source": [
    "model.save_weights('./Multi_weight.h5')"
   ]
  },
  {
   "cell_type": "code",
   "execution_count": null,
   "metadata": {},
   "outputs": [],
   "source": []
  }
 ],
 "metadata": {
  "kernelspec": {
   "display_name": "Python 3",
   "language": "python",
   "name": "python3"
  },
  "language_info": {
   "codemirror_mode": {
    "name": "ipython",
    "version": 3
   },
   "file_extension": ".py",
   "mimetype": "text/x-python",
   "name": "python",
   "nbconvert_exporter": "python",
   "pygments_lexer": "ipython3",
   "version": "3.7.3"
  },
  "toc": {
   "base_numbering": 1,
   "nav_menu": {},
   "number_sections": true,
   "sideBar": true,
   "skip_h1_title": false,
   "title_cell": "Table of Contents",
   "title_sidebar": "Contents",
   "toc_cell": false,
   "toc_position": {},
   "toc_section_display": true,
   "toc_window_display": false
  }
 },
 "nbformat": 4,
 "nbformat_minor": 2
}
